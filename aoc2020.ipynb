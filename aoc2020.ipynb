{
 "cells": [
  {
   "cell_type": "markdown",
   "metadata": {},
   "source": [
    "# AOC 2020"
   ]
  },
  {
   "cell_type": "markdown",
   "metadata": {},
   "source": [
    "## Day 15"
   ]
  },
  {
   "cell_type": "code",
   "execution_count": null,
   "metadata": {},
   "outputs": [],
   "source": [
    "inp = [0,13,1,16,6,17]"
   ]
  },
  {
   "cell_type": "code",
   "execution_count": null,
   "metadata": {},
   "outputs": [],
   "source": [
    "from collections import defaultdict, deque\n",
    "\n",
    "def run(inp, index):\n",
    "\n",
    "    memory = defaultdict(deque)\n",
    "\n",
    "    for idx, v in enumerate(inp):\n",
    "        memory[v].appendleft(idx)\n",
    "\n",
    "    last_nb = inp[-1]\n",
    "    count = len(inp)\n",
    "\n",
    "    while count < index:\n",
    "        if len(memory[last_nb]) > 1:\n",
    "            last_nb = memory[last_nb][0] - memory[last_nb][1]\n",
    "            memory[last_nb].appendleft(count)\n",
    "        else:\n",
    "            last_nb = 0\n",
    "            memory[0].appendleft(count)\n",
    "        count += 1\n",
    "    return last_nb"
   ]
  },
  {
   "cell_type": "markdown",
   "metadata": {},
   "source": [
    "### Part 1"
   ]
  },
  {
   "cell_type": "code",
   "execution_count": null,
   "metadata": {},
   "outputs": [],
   "source": [
    "run(inp, 2020)"
   ]
  },
  {
   "cell_type": "markdown",
   "metadata": {},
   "source": [
    "### Part 2"
   ]
  },
  {
   "cell_type": "code",
   "execution_count": null,
   "metadata": {},
   "outputs": [],
   "source": [
    "run(inp, 30000000)"
   ]
  },
  {
   "cell_type": "markdown",
   "metadata": {},
   "source": [
    "## Day 14\n",
    "### Part 1"
   ]
  },
  {
   "cell_type": "code",
   "execution_count": null,
   "metadata": {},
   "outputs": [],
   "source": [
    "with open('input14.txt') as fin:\n",
    "    lines = [line.strip() for line in fin.readlines()]"
   ]
  },
  {
   "cell_type": "code",
   "execution_count": null,
   "metadata": {},
   "outputs": [],
   "source": [
    "def convert(nb, mask):\n",
    "    b = int(bin(int(nb))[2:])\n",
    "    nb = list(f\"{b:036}\")\n",
    "    for idx, m in enumerate(mask):\n",
    "        if m != 'X':\n",
    "            nb[idx] = m\n",
    "    nb = \"\".join(nb)\n",
    "    return int(f\"0b{nb}\", 2)"
   ]
  },
  {
   "cell_type": "code",
   "execution_count": null,
   "metadata": {},
   "outputs": [],
   "source": [
    "memory = {}\n",
    "\n",
    "mask = None\n",
    "\n",
    "for line in lines:\n",
    "    args = line.split()\n",
    "    if args[0][:4] == 'mask':\n",
    "        mask = args[-1]\n",
    "    else:\n",
    "        addr = int(args[0][4:-1])\n",
    "        nb = args[-1]\n",
    "        memory[addr] = convert(nb, mask)\n",
    "\n",
    "sum(memory.values())"
   ]
  },
  {
   "cell_type": "markdown",
   "metadata": {},
   "source": [
    "### Part 2"
   ]
  },
  {
   "cell_type": "code",
   "execution_count": null,
   "metadata": {},
   "outputs": [],
   "source": [
    "def convert_addr(addr, mask):\n",
    "    b = int(bin(int(addr))[2:])\n",
    "    nb = list(f\"{b:036}\")\n",
    "    mask_list = list(mask)\n",
    "    for idx, m in enumerate(mask):\n",
    "        if m != '0':\n",
    "            nb[idx] = m\n",
    "    return [int(f\"0b{ad}\", 2) for ad in  compute_addresses(\"\".join(nb))]\n",
    "\n",
    "def compute_addresses(mask):\n",
    "    masks = []\n",
    "    mask_list = list(mask)\n",
    "    for idx, m in enumerate(mask):\n",
    "        if m == 'X':\n",
    "            for bit in ['0', '1']:\n",
    "                mask_list[idx] = bit\n",
    "                masks.extend(compute_masks(\"\".join(mask_list)))\n",
    "            break\n",
    "    else:\n",
    "        masks.append(\"\".join(mask_list))\n",
    "    return masks"
   ]
  },
  {
   "cell_type": "code",
   "execution_count": null,
   "metadata": {},
   "outputs": [],
   "source": [
    "memory = {}\n",
    "\n",
    "mask = None\n",
    "\n",
    "for line in lines:\n",
    "    args = line.split()\n",
    "    if args[0][:4] == 'mask':\n",
    "        mask = args[-1]\n",
    "    else:\n",
    "        addr = int(args[0][4:-1])\n",
    "        nb = args[-1]\n",
    "        for ad in convert_addr(addr, mask):\n",
    "            memory[ad] = int(nb)\n",
    "\n",
    "sum(memory.values())"
   ]
  },
  {
   "cell_type": "markdown",
   "metadata": {},
   "source": [
    "## Day 13\n",
    "### Part 1"
   ]
  },
  {
   "cell_type": "code",
   "execution_count": null,
   "metadata": {},
   "outputs": [],
   "source": [
    "with open('input13.txt') as fin:\n",
    "    lines = [line.strip() for line in fin.readlines()]"
   ]
  },
  {
   "cell_type": "code",
   "execution_count": null,
   "metadata": {},
   "outputs": [],
   "source": [
    "ts = int(lines[0])\n",
    "buses = [int(b) for b in lines[1].split(',') if b != 'x']"
   ]
  },
  {
   "cell_type": "code",
   "execution_count": null,
   "metadata": {},
   "outputs": [],
   "source": [
    "wait = [(bid - ts % bid) % bid for bid in buses]\n",
    "best_pair = min(zip(wait, buses))\n",
    "best_pair[0]*best_pair[1]"
   ]
  },
  {
   "cell_type": "markdown",
   "metadata": {},
   "source": [
    "### Part 2"
   ]
  },
  {
   "cell_type": "code",
   "execution_count": null,
   "metadata": {},
   "outputs": [],
   "source": [
    "buses = [(int(bid), idx) for idx, bid in enumerate(lines[1].split(',')) if bid != 'x']\n",
    "buses = [(int(bid), (int(bid) - idx) % int(bid)) for idx, bid in enumerate(lines[1].split(',')) if bid != 'x']"
   ]
  },
  {
   "cell_type": "code",
   "execution_count": null,
   "metadata": {},
   "outputs": [],
   "source": [
    "lines = [[], \"7,13,x,x,59,x,31,19\"]"
   ]
  },
  {
   "cell_type": "code",
   "execution_count": null,
   "metadata": {},
   "outputs": [],
   "source": [
    "from functools import reduce\n",
    "\n",
    "def chinese_remainder(buses):\n",
    "    sum_ = 0\n",
    "    prod = reduce(lambda a, b: a*b, [b[0] for b in buses])\n",
    "    for n_i, a_i in buses:\n",
    "        p = prod // n_i\n",
    "        sum_ += a_i * mul_inv(p, n_i) * p\n",
    "    return sum_ % prod\n",
    " \n",
    "def mul_inv(a, b):\n",
    "    b0 = b\n",
    "    x0, x1 = 0, 1\n",
    "    if b == 1: return 1\n",
    "    while a > 1:\n",
    "        q = a // b\n",
    "        a, b = b, a%b\n",
    "        x0, x1 = x1 - q * x0, x0\n",
    "    if x1 < 0: x1 += b0\n",
    "    return x1"
   ]
  },
  {
   "cell_type": "code",
   "execution_count": null,
   "metadata": {},
   "outputs": [],
   "source": [
    "chinese_remainder(buses)"
   ]
  },
  {
   "cell_type": "markdown",
   "metadata": {},
   "source": [
    "## Day 12\n",
    "### Part 1"
   ]
  },
  {
   "cell_type": "code",
   "execution_count": null,
   "metadata": {},
   "outputs": [],
   "source": [
    "with open('input12.txt') as fin:\n",
    "    lines = [line.strip() for line in fin.readlines()]\n",
    "    directions = [(line[0], int(line[1:])) for line in lines]"
   ]
  },
  {
   "cell_type": "code",
   "execution_count": null,
   "metadata": {},
   "outputs": [],
   "source": [
    "import math\n",
    "\n",
    "class Ship:\n",
    "    def __init__(self):\n",
    "        self.x = 0\n",
    "        self.y = 0\n",
    "        self.angle = 0\n",
    "        \n",
    "    def forward(self, amount):\n",
    "        dx = math.cos(math.radians(self.angle))\n",
    "        dy = math.sin(math.radians(self.angle))\n",
    "        \n",
    "        self.x += round(dx*amount)\n",
    "        self.y += round(dy*amount)\n",
    "        \n",
    "    def move(self, cmd, amount):\n",
    "        if cmd == 'N':\n",
    "            self.y += amount\n",
    "        elif cmd == 'W':\n",
    "            self.x -= amount\n",
    "        elif cmd == 'S':\n",
    "            self.y -= amount\n",
    "        elif cmd == 'E':\n",
    "            self.x += amount\n",
    "        elif cmd == 'L':\n",
    "            self.angle += amount\n",
    "        elif cmd == 'R':\n",
    "            self.angle -= amount\n",
    "        elif cmd == 'F':\n",
    "            self.forward(amount)\n",
    "        else:\n",
    "            print(f\"Unknown command {cmd}\")\n",
    "            \n",
    "    def location(self):\n",
    "        return self.x, self.y"
   ]
  },
  {
   "cell_type": "code",
   "execution_count": null,
   "metadata": {},
   "outputs": [],
   "source": [
    "ship = Ship()\n",
    "\n",
    "for direction in directions:\n",
    "    ship.move(*direction)\n",
    "sum(abs(l) for l in ship.location())"
   ]
  },
  {
   "cell_type": "markdown",
   "metadata": {},
   "source": [
    "### Part2"
   ]
  },
  {
   "cell_type": "code",
   "execution_count": null,
   "metadata": {},
   "outputs": [],
   "source": [
    "import math\n",
    "\n",
    "class ShipV2:\n",
    "    def __init__(self):\n",
    "        self.x = 0\n",
    "        self.y = 0\n",
    "        self.vx = 10\n",
    "        self.vy = 1\n",
    "        \n",
    "    def rotate(self, angle):\n",
    "        dx = math.cos(math.radians(angle))\n",
    "        dy = math.sin(math.radians(angle))\n",
    "        \n",
    "        self.vx, self.vy = round((dx * self.vx) - (dy * self.vy)), round((dy * self.vx) + (dx * self.vy))\n",
    "        \n",
    "    def forward(self, amount):\n",
    "        self.x += amount*self.vx\n",
    "        self.y += amount*self.vy\n",
    "        \n",
    "    def move(self, cmd, amount):\n",
    "        if cmd == 'N':\n",
    "            self.vy += amount\n",
    "        elif cmd == 'W':\n",
    "            self.vx -= amount\n",
    "        elif cmd == 'S':\n",
    "            self.vy -= amount\n",
    "        elif cmd == 'E':\n",
    "            self.vx += amount\n",
    "        elif cmd == 'L':\n",
    "            self.rotate(amount)\n",
    "        elif cmd == 'R':\n",
    "            self.rotate(-amount)\n",
    "        elif cmd == 'F':\n",
    "            self.forward(amount)\n",
    "        else:\n",
    "            print(f\"Unknown command {cmd}\")\n",
    "            \n",
    "    def location(self):\n",
    "        return self.x, self.y"
   ]
  },
  {
   "cell_type": "code",
   "execution_count": null,
   "metadata": {},
   "outputs": [],
   "source": [
    "ship = ShipV2()\n",
    "\n",
    "for direction in directions:\n",
    "    ship.move(*direction)\n",
    "sum(abs(l) for l in ship.location())"
   ]
  },
  {
   "cell_type": "markdown",
   "metadata": {},
   "source": [
    "## Day 11\n",
    "### Part 1"
   ]
  },
  {
   "cell_type": "code",
   "execution_count": null,
   "metadata": {
    "scrolled": true
   },
   "outputs": [],
   "source": [
    "with open('input11.txt') as fin:\n",
    "    lines = [line.strip() for line in fin.readlines()]"
   ]
  },
  {
   "cell_type": "code",
   "execution_count": null,
   "metadata": {
    "scrolled": true
   },
   "outputs": [],
   "source": [
    "from collections import Counter, defaultdict\n",
    "\n",
    "def get_empty_area():\n",
    "    \n",
    "    area = defaultdict(lambda : defaultdict(lambda :'.'))\n",
    "\n",
    "    for i, l in enumerate(lines):\n",
    "        for j, s in enumerate(l):\n",
    "            area[i][j] = s\n",
    "            \n",
    "    return area\n",
    "\n",
    "def check(area, x, y):\n",
    "    return Counter(area[i][j] for i in range(x-1, x+2) for j in range(y-1, y+2) if i != x or j != y)\n",
    "\n",
    "def count(area):\n",
    "    return Counter(s for l in area.values() for s in l.values())\n",
    "\n",
    "def iterate(area):\n",
    "    new_area = get_empty_area()\n",
    "    for i, l in enumerate(lines):\n",
    "        for j, s in enumerate(l):\n",
    "            if s == '.':\n",
    "                continue\n",
    "            c = check(area, i, j)\n",
    "\n",
    "            if c['#'] == 0:\n",
    "                new_area[i][j] = '#'\n",
    "            elif c['#'] >= 4:\n",
    "                new_area[i][j] = 'L'\n",
    "            else:\n",
    "                new_area[i][j] = area[i][j]\n",
    "    return new_area"
   ]
  },
  {
   "cell_type": "code",
   "execution_count": null,
   "metadata": {
    "scrolled": true
   },
   "outputs": [],
   "source": [
    "area = get_empty_area()\n",
    "\n",
    "nb_occupied = count(area)['#']\n",
    "\n",
    "for i in range(1000):\n",
    "    area = iterate(area)\n",
    "    new_nb = count(area)['#']\n",
    "    if new_nb == nb_occupied:\n",
    "        print(new_nb)\n",
    "        break\n",
    "    nb_occupied = new_nb"
   ]
  },
  {
   "cell_type": "markdown",
   "metadata": {},
   "source": [
    "### Part 2"
   ]
  },
  {
   "cell_type": "code",
   "execution_count": null,
   "metadata": {
    "scrolled": true
   },
   "outputs": [],
   "source": [
    "def check_line(area, x, y, dx, dy, w, h):\n",
    "    i, j = x, y\n",
    "    while True:\n",
    "        i += dx\n",
    "        j += dy\n",
    "        if area[i][j] != '.':\n",
    "            return area[i][j]\n",
    "        if i < 0 or i > w or j < 0 or j > h:\n",
    "            return '.'\n",
    "        \n",
    "\n",
    "def check_p2(area, x, y, w, h):\n",
    "    return Counter([check_line(area, x, y, dx, dy, w, h) for dx in [-1, 0, 1] for dy in [-1, 0, 1] if dx != 0 or dy != 0])\n",
    "\n",
    "\n",
    "def iterate_p2(area):\n",
    "    h, w = len(lines), len(lines[0])\n",
    "    new_area = get_empty_area()\n",
    "    for i, l in enumerate(lines):\n",
    "        for j, s in enumerate(l):\n",
    "            if s == '.':\n",
    "                continue\n",
    "            c = check_p2(area, i, j, w, h)\n",
    "\n",
    "            if c['#'] == 0:\n",
    "                new_area[i][j] = '#'\n",
    "            elif c['#'] >= 5:\n",
    "                new_area[i][j] = 'L'\n",
    "            else:\n",
    "                new_area[i][j] = area[i][j]\n",
    "    return new_area"
   ]
  },
  {
   "cell_type": "code",
   "execution_count": null,
   "metadata": {
    "scrolled": true
   },
   "outputs": [],
   "source": [
    "area = get_empty_area()\n",
    "\n",
    "nb_occupied = count(area)['#']\n",
    "\n",
    "for i in range(1000):\n",
    "    area = iterate_p2(area)\n",
    "    new_nb = count(area)['#']\n",
    "    if new_nb == nb_occupied:\n",
    "        print(new_nb)\n",
    "        break\n",
    "    nb_occupied = new_nb"
   ]
  },
  {
   "cell_type": "markdown",
   "metadata": {},
   "source": [
    "## Day 10\n",
    "### Part 1"
   ]
  },
  {
   "cell_type": "code",
   "execution_count": null,
   "metadata": {
    "scrolled": true
   },
   "outputs": [],
   "source": [
    "with open('input10.txt') as fin:\n",
    "    lines = [int(line.strip()) for line in fin.readlines()]"
   ]
  },
  {
   "cell_type": "code",
   "execution_count": null,
   "metadata": {
    "scrolled": true
   },
   "outputs": [],
   "source": [
    "lines.sort()"
   ]
  },
  {
   "cell_type": "code",
   "execution_count": null,
   "metadata": {
    "scrolled": true
   },
   "outputs": [],
   "source": [
    "from collections import Counter\n",
    "c = Counter(l2 - l1 for l1, l2 in zip(lines[:-1], lines[1:]))\n",
    "(c[1]+1)*(c[3]+1)"
   ]
  },
  {
   "cell_type": "markdown",
   "metadata": {},
   "source": [
    "### Part 2"
   ]
  },
  {
   "cell_type": "code",
   "execution_count": null,
   "metadata": {
    "scrolled": true
   },
   "outputs": [],
   "source": [
    "c = Counter({0: 1})\n",
    "for line in lines:\n",
    "    c[line] = sum(c[e] for e in range(line - 3, line))\n",
    "print(c.most_common(1)[0][1])"
   ]
  },
  {
   "cell_type": "markdown",
   "metadata": {},
   "source": [
    "## Day 9\n",
    "### Part 1"
   ]
  },
  {
   "cell_type": "code",
   "execution_count": null,
   "metadata": {
    "scrolled": true
   },
   "outputs": [],
   "source": [
    "with open('input09.txt') as fin:\n",
    "    lines = [int(line.strip()) for line in fin.readlines()]"
   ]
  },
  {
   "cell_type": "code",
   "execution_count": null,
   "metadata": {
    "scrolled": true
   },
   "outputs": [],
   "source": [
    "def get_sums(numbers):\n",
    "    return set(nb1 + nb2 for nb1 in set(numbers) for nb2 in set(numbers) if nb1 != nb2)\n",
    "\n",
    "def check(numbers):\n",
    "    pre = 25\n",
    "    for i in range(pre, len(numbers)):\n",
    "        if numbers[i] not in get_sums(numbers[i-pre:i]):\n",
    "            return numbers[i]"
   ]
  },
  {
   "cell_type": "code",
   "execution_count": null,
   "metadata": {
    "scrolled": true
   },
   "outputs": [],
   "source": [
    "check(lines)"
   ]
  },
  {
   "cell_type": "markdown",
   "metadata": {},
   "source": [
    "### Part 2"
   ]
  },
  {
   "cell_type": "code",
   "execution_count": null,
   "metadata": {
    "scrolled": true
   },
   "outputs": [],
   "source": [
    "target = check(lines)\n",
    "max_idx = lines.index(target)"
   ]
  },
  {
   "cell_type": "code",
   "execution_count": null,
   "metadata": {
    "scrolled": true
   },
   "outputs": [],
   "source": [
    "def find_weakness(numbers):\n",
    "    for i in range(max_idx):\n",
    "        for j in range(i, max_idx):\n",
    "            if sum(numbers[i:j]) == target:\n",
    "                return min(numbers[i:j]) + max(numbers[i:j])"
   ]
  },
  {
   "cell_type": "code",
   "execution_count": null,
   "metadata": {
    "scrolled": true
   },
   "outputs": [],
   "source": [
    "find_weakness(lines)"
   ]
  },
  {
   "cell_type": "markdown",
   "metadata": {},
   "source": [
    "## Day 8\n",
    "### Part 1"
   ]
  },
  {
   "cell_type": "code",
   "execution_count": null,
   "metadata": {
    "scrolled": true
   },
   "outputs": [],
   "source": [
    "with open('input08.txt') as fin:\n",
    "    lines = [line.strip() for line in fin.readlines()]"
   ]
  },
  {
   "cell_type": "code",
   "execution_count": null,
   "metadata": {
    "scrolled": true
   },
   "outputs": [],
   "source": [
    "def execute(line):\n",
    "    cmd, arg = line.split()\n",
    "    if cmd == 'nop':\n",
    "        return 1, 0\n",
    "    arg = int(arg)\n",
    "    if cmd == 'acc':\n",
    "        return 1, arg\n",
    "    if cmd == 'jmp':\n",
    "        return arg, 0\n",
    "    \n",
    "def run(prog):\n",
    "    idx = 0\n",
    "    acc = 0\n",
    "    cache = {0}\n",
    "    while True:\n",
    "        off, inc = execute(prog[idx])\n",
    "        acc += inc\n",
    "        idx += off\n",
    "        if idx in cache:\n",
    "            return False, acc\n",
    "        if idx >= len(prog):\n",
    "            return True, acc\n",
    "        cache.add(idx)\n",
    "        \n",
    "_, ans = run(lines)\n",
    "print(ans)"
   ]
  },
  {
   "cell_type": "markdown",
   "metadata": {},
   "source": [
    "### Part2"
   ]
  },
  {
   "cell_type": "code",
   "execution_count": null,
   "metadata": {
    "scrolled": true
   },
   "outputs": [],
   "source": [
    "def fix(prog):\n",
    "    for i in range(len(prog)):\n",
    "        if prog[i][:3] == 'acc':\n",
    "            continue\n",
    "        fixed = prog.copy()\n",
    "        if fixed[i][:3] == 'nop':\n",
    "            fixed[i] = fixed[i].replace('nop', 'jmp')\n",
    "        else:\n",
    "            fixed[i] = fixed[i].replace('jmp', 'nop')\n",
    "        ok, ans = run(fixed)\n",
    "        if ok:\n",
    "            print(ans)\n",
    "            break\n",
    "            \n",
    "fix(lines)"
   ]
  },
  {
   "cell_type": "markdown",
   "metadata": {},
   "source": [
    "## Day 7\n",
    "### Part 1"
   ]
  },
  {
   "cell_type": "code",
   "execution_count": null,
   "metadata": {
    "scrolled": true
   },
   "outputs": [],
   "source": [
    "with open('input07.txt') as fin:\n",
    "    lines = fin.readlines()"
   ]
  },
  {
   "cell_type": "code",
   "execution_count": null,
   "metadata": {
    "scrolled": true
   },
   "outputs": [],
   "source": [
    "import re\n",
    "from collections import defaultdict\n",
    "\n",
    "constraints = {}\n",
    "reverse = defaultdict(set)\n",
    "\n",
    "for line in lines:\n",
    "    bag, content = line.strip().split(' bags contain ')\n",
    "\n",
    "    constraints[bag] = []\n",
    "\n",
    "    if not re.match(r\"^no other\", content):\n",
    "        content = content.split(\", \")\n",
    "        for item in content:\n",
    "            match = re.match(r\"^(\\d) (\\w+ \\w+) bags?\\.?\", item)\n",
    "            if match:\n",
    "                constraints[bag].append((int(match.group(1)), match.group(2)))\n",
    "                reverse[match.group(2)].add(bag)"
   ]
  },
  {
   "cell_type": "code",
   "execution_count": null,
   "metadata": {
    "scrolled": true
   },
   "outputs": [],
   "source": [
    "targets = reverse[\"shiny gold\"].copy()\n",
    "\n",
    "while True:\n",
    "    new_targets = set()\n",
    "    for bag in targets:\n",
    "        new_targets.update(reverse[bag])\n",
    "    if new_targets - targets:\n",
    "        targets.update(new_targets)\n",
    "    else:\n",
    "        break\n",
    "len(targets)"
   ]
  },
  {
   "cell_type": "markdown",
   "metadata": {},
   "source": [
    "### Part 2"
   ]
  },
  {
   "cell_type": "code",
   "execution_count": null,
   "metadata": {
    "scrolled": true
   },
   "outputs": [],
   "source": [
    "def recurse(bag):\n",
    "    if constraints[bag]:\n",
    "        count = 0\n",
    "        for qty, subbag in constraints[bag]:\n",
    "            count += qty*(1+recurse(subbag))\n",
    "        return count\n",
    "    else:\n",
    "        return 0\n",
    "    \n",
    "recurse(\"shiny gold\")"
   ]
  },
  {
   "cell_type": "markdown",
   "metadata": {},
   "source": [
    "## Day 6\n",
    "### Part 1"
   ]
  },
  {
   "cell_type": "code",
   "execution_count": null,
   "metadata": {
    "scrolled": true
   },
   "outputs": [],
   "source": [
    "with open('input06.txt') as fin:\n",
    "    lines = fin.readlines()\n",
    "    groups = ''.join(lines).split('\\n\\n')"
   ]
  },
  {
   "cell_type": "code",
   "execution_count": null,
   "metadata": {
    "scrolled": true
   },
   "outputs": [],
   "source": [
    "def parse_group(group):\n",
    "    return set(\"\".join(group.split('\\n')))\n",
    "\n",
    "print(sum(len(parse_group(group)) for group in groups))"
   ]
  },
  {
   "cell_type": "markdown",
   "metadata": {},
   "source": [
    "### Part 2"
   ]
  },
  {
   "cell_type": "code",
   "execution_count": null,
   "metadata": {
    "scrolled": true
   },
   "outputs": [],
   "source": [
    "def parse_group_p2(group):\n",
    "    inter_set = parse_group(group)\n",
    "    for subgroup in group.split('\\n'):\n",
    "        inter_set &= set(subgroup)\n",
    "    return inter_set"
   ]
  },
  {
   "cell_type": "code",
   "execution_count": null,
   "metadata": {
    "scrolled": true
   },
   "outputs": [],
   "source": [
    "print(sum(len(parse_group_p2(group)) for group in groups))"
   ]
  },
  {
   "cell_type": "markdown",
   "metadata": {},
   "source": [
    "## Day 5\n",
    "### Part 1"
   ]
  },
  {
   "cell_type": "code",
   "execution_count": null,
   "metadata": {
    "scrolled": true
   },
   "outputs": [],
   "source": [
    "with open('input05.txt') as fin:\n",
    "    lines = fin.readlines()\n",
    "    codes = [c.strip() for c in lines]"
   ]
  },
  {
   "cell_type": "code",
   "execution_count": null,
   "metadata": {
    "scrolled": true
   },
   "outputs": [],
   "source": [
    "import re\n",
    "\n",
    "def idx(code):\n",
    "    code = re.sub(r\"[FL]\", '0', code)\n",
    "    code = re.sub(r\"[BR]\", '1', code)\n",
    "    return int(f\"0b{code}\", 2)\n",
    "\n",
    "max(idx(code) for code in codes)"
   ]
  },
  {
   "cell_type": "markdown",
   "metadata": {},
   "source": [
    "### Part 2"
   ]
  },
  {
   "cell_type": "code",
   "execution_count": null,
   "metadata": {
    "scrolled": true
   },
   "outputs": [],
   "source": [
    "ids = list(sorted([idx(code) for code in codes]))\n",
    "\n",
    "for id1, id2 in zip(ids[:-1], ids[1:]):\n",
    "    if id1 != id2 - 1:\n",
    "        print(id1 + 1)"
   ]
  },
  {
   "cell_type": "markdown",
   "metadata": {},
   "source": [
    "## Day 4\n",
    "### Part 1"
   ]
  },
  {
   "cell_type": "code",
   "execution_count": null,
   "metadata": {
    "scrolled": true
   },
   "outputs": [],
   "source": [
    "with open('input04.txt') as fin:\n",
    "    lines = fin.readlines()\n",
    "    raw_passports = ''.join(lines).split('\\n\\n')"
   ]
  },
  {
   "cell_type": "code",
   "execution_count": null,
   "metadata": {
    "scrolled": true
   },
   "outputs": [],
   "source": [
    "import re\n",
    "\n",
    "def get_passport(raw_line):\n",
    "    fields = re.split(r\"[\\s:]\", raw_line)\n",
    "    return {k:v for k,v in zip(fields[:-1:2], fields[1::2])}"
   ]
  },
  {
   "cell_type": "code",
   "execution_count": null,
   "metadata": {
    "scrolled": true
   },
   "outputs": [],
   "source": [
    "mandatory = {'byr', 'ecl', 'eyr', 'hcl', 'hgt', 'iyr', 'pid'}\n",
    "valid = 0\n",
    "for raw_pass in raw_passports:\n",
    "    passport = get_passport(raw_pass)\n",
    "    if set(passport.keys()) >= mandatory:\n",
    "        valid += 1\n",
    "print(valid)"
   ]
  },
  {
   "cell_type": "markdown",
   "metadata": {},
   "source": [
    "### Part 2"
   ]
  },
  {
   "cell_type": "code",
   "execution_count": null,
   "metadata": {
    "scrolled": true
   },
   "outputs": [],
   "source": [
    "def vyr(s, low, high):\n",
    "    r = re.match(r\"^\\d{4}$\", s)\n",
    "    if r:\n",
    "        y = int(r.group(0))\n",
    "        return low <= y <= high\n",
    "    return False\n",
    "\n",
    "def vhgt(s):\n",
    "    r = re.match(r\"^(\\d+)(cm|in)$\", s)\n",
    "    if r:\n",
    "        h = int(r.group(1))\n",
    "        u = r.group(2)\n",
    "        if u == 'cm':\n",
    "            return 150 <= h <= 193\n",
    "        elif u == 'in':\n",
    "            return 59 <= h <= 76\n",
    "    return False\n",
    "\n",
    "rules = {\n",
    "    'byr': lambda s: vyr(s, 1920, 2002),\n",
    "    'iyr': lambda s: vyr(s, 2010, 2020),\n",
    "    'eyr': lambda s: vyr(s, 2020, 2030),\n",
    "    'hgt': vhgt,\n",
    "    'hcl': lambda s: bool(re.match(r\"^#[0-9a-f]{6}$\", s)),\n",
    "    'ecl': lambda s: bool(re.match(r\"^(amb|blu|brn|gry|grn|hzl|oth)$\", s)),\n",
    "    'pid': lambda s: bool(re.match(r\"^\\d{9}$\", s)),\n",
    "}"
   ]
  },
  {
   "cell_type": "code",
   "execution_count": null,
   "metadata": {
    "scrolled": true
   },
   "outputs": [],
   "source": [
    "mandatory = {'byr', 'ecl', 'eyr', 'hcl', 'hgt', 'iyr', 'pid'}\n",
    "valid = 0\n",
    "for raw_pass in raw_passports:\n",
    "    passport = get_passport(raw_pass)\n",
    "    if set(passport.keys()) - {'cid'} == set(rules.keys()) and all(rule(passport[key]) for key, rule in rules.items()):\n",
    "        valid += 1\n",
    "print(valid)"
   ]
  },
  {
   "cell_type": "markdown",
   "metadata": {},
   "source": [
    "## Day 3\n",
    "### Part 1"
   ]
  },
  {
   "cell_type": "code",
   "execution_count": null,
   "metadata": {
    "scrolled": true
   },
   "outputs": [],
   "source": [
    "with open('input03.txt') as fin:\n",
    "    lines = fin.readlines()\n",
    "    trees = [line.strip() for line in lines]\n",
    "    height, width = len(trees), len(trees[0])"
   ]
  },
  {
   "cell_type": "code",
   "execution_count": null,
   "metadata": {
    "scrolled": true
   },
   "outputs": [],
   "source": [
    "def step(x, y, dx, dy):\n",
    "    return x+dx, y+dy\n",
    "\n",
    "def run(dx=3, dy=1):\n",
    "    cx, cy = 0, 0\n",
    "    nb_trees = 0\n",
    "    while cy < height:\n",
    "        if trees[cy][cx] == '#':\n",
    "            nb_trees += 1\n",
    "        cx, cy = step(cx, cy, dx, dy)\n",
    "        cx = cx % width\n",
    "    return nb_trees"
   ]
  },
  {
   "cell_type": "code",
   "execution_count": null,
   "metadata": {
    "scrolled": true
   },
   "outputs": [],
   "source": [
    "run()"
   ]
  },
  {
   "cell_type": "markdown",
   "metadata": {},
   "source": [
    "### Part 2"
   ]
  },
  {
   "cell_type": "code",
   "execution_count": null,
   "metadata": {
    "scrolled": true
   },
   "outputs": [],
   "source": [
    "slopes = [(1, 1), (3, 1), (5, 1), (7, 1), (1, 2)]\n",
    "count = 1\n",
    "for dx, dy in slopes:\n",
    "    count *= run(dx, dy)\n",
    "print(count)"
   ]
  },
  {
   "cell_type": "markdown",
   "metadata": {},
   "source": [
    "## Day 2\n",
    "### Part 1"
   ]
  },
  {
   "cell_type": "code",
   "execution_count": null,
   "metadata": {
    "scrolled": true
   },
   "outputs": [],
   "source": [
    "import re\n",
    "from collections import Counter\n",
    "\n",
    "def parse(line):\n",
    "    low, high, letter, password = re.split(r\"[- ]\", line.strip())\n",
    "    \n",
    "    low, high, letter = int(low), int(high), letter[:-1]\n",
    "    \n",
    "    return low, high, letter, password\n",
    "\n",
    "def valid(line):\n",
    "    low, high, letter, password = parse(line)\n",
    "    count = Counter(password)\n",
    "    \n",
    "    return count[letter] >= low and count[letter] <= high\n",
    "\n",
    "with open('input02.txt') as fin:\n",
    "    lines = fin.readlines()\n",
    "    \n",
    "    print(len([line for line in lines if valid(line)])) "
   ]
  },
  {
   "cell_type": "markdown",
   "metadata": {},
   "source": [
    "### Part 2"
   ]
  },
  {
   "cell_type": "code",
   "execution_count": null,
   "metadata": {
    "scrolled": true
   },
   "outputs": [],
   "source": [
    "def valid_p2(line):\n",
    "    low, high, letter, password = parse(line)\n",
    "    \n",
    "    return (password[low - 1] == letter) != (password[high - 1] == letter)"
   ]
  },
  {
   "cell_type": "code",
   "execution_count": null,
   "metadata": {
    "scrolled": true
   },
   "outputs": [],
   "source": [
    "with open('input02.txt') as fin:\n",
    "    lines = fin.readlines()\n",
    "    \n",
    "    print(len([line for line in lines if valid_p2(line)])) "
   ]
  },
  {
   "cell_type": "markdown",
   "metadata": {},
   "source": [
    "## Day 1\n",
    "### Part 1"
   ]
  },
  {
   "cell_type": "code",
   "execution_count": null,
   "metadata": {
    "scrolled": true
   },
   "outputs": [],
   "source": [
    "with open('input01.txt') as fin:\n",
    "    data = [int(d.strip()) for d in fin.readlines()]"
   ]
  },
  {
   "cell_type": "code",
   "execution_count": null,
   "metadata": {
    "scrolled": true
   },
   "outputs": [],
   "source": [
    "for a in data:\n",
    "    for b in data:\n",
    "        if a+b == 2020:\n",
    "            print(a*b)"
   ]
  },
  {
   "cell_type": "markdown",
   "metadata": {},
   "source": [
    "### Part 2"
   ]
  },
  {
   "cell_type": "code",
   "execution_count": null,
   "metadata": {
    "scrolled": true
   },
   "outputs": [],
   "source": [
    "for a in data:\n",
    "    for b in data:\n",
    "        for c in data:\n",
    "            if a+b+c == 2020:\n",
    "                print(a*b*c)"
   ]
  }
 ],
 "metadata": {
  "kernelspec": {
   "display_name": "Python 3",
   "language": "python",
   "name": "python3"
  },
  "language_info": {
   "codemirror_mode": {
    "name": "ipython",
    "version": 3
   },
   "file_extension": ".py",
   "mimetype": "text/x-python",
   "name": "python",
   "nbconvert_exporter": "python",
   "pygments_lexer": "ipython3",
   "version": "3.6.10"
  }
 },
 "nbformat": 4,
 "nbformat_minor": 2
}
