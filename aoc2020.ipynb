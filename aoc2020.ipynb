{
 "cells": [
  {
   "cell_type": "markdown",
   "metadata": {},
   "source": [
    "# AOC 2020"
   ]
  },
  {
   "cell_type": "markdown",
   "metadata": {},
   "source": [
    "## Day 9\n",
    "### Part 1"
   ]
  },
  {
   "cell_type": "code",
   "execution_count": null,
   "metadata": {},
   "outputs": [],
   "source": [
    "with open('input09.txt') as fin:\n",
    "    lines = [int(line.strip()) for line in fin.readlines()]"
   ]
  },
  {
   "cell_type": "code",
   "execution_count": null,
   "metadata": {},
   "outputs": [],
   "source": [
    "def get_sums(numbers):\n",
    "    return set(nb1 + nb2 for nb1 in set(numbers) for nb2 in set(numbers) if nb1 != nb2)\n",
    "\n",
    "def check(numbers):\n",
    "    pre = 25\n",
    "    for i in range(pre, len(numbers)):\n",
    "        if numbers[i] not in get_sums(numbers[i-pre:i]):\n",
    "            return numbers[i]"
   ]
  },
  {
   "cell_type": "code",
   "execution_count": null,
   "metadata": {},
   "outputs": [],
   "source": [
    "check(lines)"
   ]
  },
  {
   "cell_type": "markdown",
   "metadata": {},
   "source": [
    "### Part 2"
   ]
  },
  {
   "cell_type": "code",
   "execution_count": null,
   "metadata": {},
   "outputs": [],
   "source": [
    "target = check(lines)\n",
    "max_idx = lines.index(target)"
   ]
  },
  {
   "cell_type": "code",
   "execution_count": null,
   "metadata": {},
   "outputs": [],
   "source": [
    "def find_weakness(numbers):\n",
    "    for i in range(max_idx):\n",
    "        for j in range(i, max_idx):\n",
    "            if sum(numbers[i:j]) == target:\n",
    "                return min(numbers[i:j]) + max(numbers[i:j])"
   ]
  },
  {
   "cell_type": "code",
   "execution_count": null,
   "metadata": {},
   "outputs": [],
   "source": [
    "find_weakness(lines)"
   ]
  },
  {
   "cell_type": "markdown",
   "metadata": {},
   "source": [
    "## Day 8\n",
    "### Part 1"
   ]
  },
  {
   "cell_type": "code",
   "execution_count": null,
   "metadata": {},
   "outputs": [],
   "source": [
    "with open('input08.txt') as fin:\n",
    "    lines = [line.strip() for line in fin.readlines()]"
   ]
  },
  {
   "cell_type": "code",
   "execution_count": null,
   "metadata": {},
   "outputs": [],
   "source": [
    "def execute(line):\n",
    "    cmd, arg = line.split()\n",
    "    if cmd == 'nop':\n",
    "        return 1, 0\n",
    "    arg = int(arg)\n",
    "    if cmd == 'acc':\n",
    "        return 1, arg\n",
    "    if cmd == 'jmp':\n",
    "        return arg, 0\n",
    "    \n",
    "def run(prog):\n",
    "    idx = 0\n",
    "    acc = 0\n",
    "    cache = {0}\n",
    "    while True:\n",
    "        off, inc = execute(prog[idx])\n",
    "        acc += inc\n",
    "        idx += off\n",
    "        if idx in cache:\n",
    "            return False, acc\n",
    "        if idx >= len(prog):\n",
    "            return True, acc\n",
    "        cache.add(idx)\n",
    "        \n",
    "_, ans = run(lines)\n",
    "print(ans)"
   ]
  },
  {
   "cell_type": "markdown",
   "metadata": {},
   "source": [
    "### Part2"
   ]
  },
  {
   "cell_type": "code",
   "execution_count": null,
   "metadata": {},
   "outputs": [],
   "source": [
    "def fix(prog):\n",
    "    for i in range(len(prog)):\n",
    "        if prog[i][:3] == 'acc':\n",
    "            continue\n",
    "        fixed = prog.copy()\n",
    "        if fixed[i][:3] == 'nop':\n",
    "            fixed[i] = fixed[i].replace('nop', 'jmp')\n",
    "        else:\n",
    "            fixed[i] = fixed[i].replace('jmp', 'nop')\n",
    "        ok, ans = run(fixed)\n",
    "        if ok:\n",
    "            print(ans)\n",
    "            break\n",
    "            \n",
    "fix(lines)"
   ]
  },
  {
   "cell_type": "markdown",
   "metadata": {},
   "source": [
    "## Day 7\n",
    "### Part 1"
   ]
  },
  {
   "cell_type": "code",
   "execution_count": null,
   "metadata": {},
   "outputs": [],
   "source": [
    "with open('input07.txt') as fin:\n",
    "    lines = fin.readlines()"
   ]
  },
  {
   "cell_type": "code",
   "execution_count": null,
   "metadata": {},
   "outputs": [],
   "source": [
    "import re\n",
    "from collections import defaultdict\n",
    "\n",
    "constraints = {}\n",
    "reverse = defaultdict(set)\n",
    "\n",
    "for line in lines:\n",
    "    bag, content = line.strip().split(' bags contain ')\n",
    "\n",
    "    constraints[bag] = []\n",
    "\n",
    "    if not re.match(r\"^no other\", content):\n",
    "        content = content.split(\", \")\n",
    "        for item in content:\n",
    "            match = re.match(r\"^(\\d) (\\w+ \\w+) bags?\\.?\", item)\n",
    "            if match:\n",
    "                constraints[bag].append((int(match.group(1)), match.group(2)))\n",
    "                reverse[match.group(2)].add(bag)"
   ]
  },
  {
   "cell_type": "code",
   "execution_count": null,
   "metadata": {},
   "outputs": [],
   "source": [
    "targets = reverse[\"shiny gold\"].copy()\n",
    "\n",
    "while True:\n",
    "    new_targets = set()\n",
    "    for bag in targets:\n",
    "        new_targets.update(reverse[bag])\n",
    "    if new_targets - targets:\n",
    "        targets.update(new_targets)\n",
    "    else:\n",
    "        break\n",
    "len(targets)"
   ]
  },
  {
   "cell_type": "markdown",
   "metadata": {},
   "source": [
    "### Part 2"
   ]
  },
  {
   "cell_type": "code",
   "execution_count": null,
   "metadata": {},
   "outputs": [],
   "source": [
    "def recurse(bag):\n",
    "    if constraints[bag]:\n",
    "        count = 0\n",
    "        for qty, subbag in constraints[bag]:\n",
    "            count += qty*(1+recurse(subbag))\n",
    "        return count\n",
    "    else:\n",
    "        return 0\n",
    "    \n",
    "recurse(\"shiny gold\")"
   ]
  },
  {
   "cell_type": "markdown",
   "metadata": {},
   "source": [
    "## Day 6\n",
    "### Part 1"
   ]
  },
  {
   "cell_type": "code",
   "execution_count": null,
   "metadata": {},
   "outputs": [],
   "source": [
    "with open('input06.txt') as fin:\n",
    "    lines = fin.readlines()\n",
    "    groups = ''.join(lines).split('\\n\\n')"
   ]
  },
  {
   "cell_type": "code",
   "execution_count": null,
   "metadata": {},
   "outputs": [],
   "source": [
    "def parse_group(group):\n",
    "    return set(\"\".join(group.split('\\n')))\n",
    "\n",
    "print(sum(len(parse_group(group)) for group in groups))"
   ]
  },
  {
   "cell_type": "markdown",
   "metadata": {},
   "source": [
    "### Part 2"
   ]
  },
  {
   "cell_type": "code",
   "execution_count": null,
   "metadata": {},
   "outputs": [],
   "source": [
    "def parse_group_p2(group):\n",
    "    inter_set = parse_group(group)\n",
    "    for subgroup in group.split('\\n'):\n",
    "        inter_set &= set(subgroup)\n",
    "    return inter_set"
   ]
  },
  {
   "cell_type": "code",
   "execution_count": null,
   "metadata": {},
   "outputs": [],
   "source": [
    "print(sum(len(parse_group_p2(group)) for group in groups))"
   ]
  },
  {
   "cell_type": "markdown",
   "metadata": {},
   "source": [
    "## Day 5\n",
    "### Part 1"
   ]
  },
  {
   "cell_type": "code",
   "execution_count": null,
   "metadata": {},
   "outputs": [],
   "source": [
    "with open('input05.txt') as fin:\n",
    "    lines = fin.readlines()\n",
    "    codes = [c.strip() for c in lines]"
   ]
  },
  {
   "cell_type": "code",
   "execution_count": null,
   "metadata": {},
   "outputs": [],
   "source": [
    "import re\n",
    "\n",
    "def idx(code):\n",
    "    code = re.sub(r\"[FL]\", '0', code)\n",
    "    code = re.sub(r\"[BR]\", '1', code)\n",
    "    return int(f\"0b{code}\", 2)\n",
    "\n",
    "max(idx(code) for code in codes)"
   ]
  },
  {
   "cell_type": "markdown",
   "metadata": {},
   "source": [
    "### Part 2"
   ]
  },
  {
   "cell_type": "code",
   "execution_count": null,
   "metadata": {},
   "outputs": [],
   "source": [
    "ids = list(sorted([idx(code) for code in codes]))\n",
    "\n",
    "for id1, id2 in zip(ids[:-1], ids[1:]):\n",
    "    if id1 != id2 - 1:\n",
    "        print(id1 + 1)"
   ]
  },
  {
   "cell_type": "markdown",
   "metadata": {},
   "source": [
    "## Day 4\n",
    "### Part 1"
   ]
  },
  {
   "cell_type": "code",
   "execution_count": null,
   "metadata": {},
   "outputs": [],
   "source": [
    "with open('input04.txt') as fin:\n",
    "    lines = fin.readlines()\n",
    "    raw_passports = ''.join(lines).split('\\n\\n')"
   ]
  },
  {
   "cell_type": "code",
   "execution_count": null,
   "metadata": {},
   "outputs": [],
   "source": [
    "import re\n",
    "\n",
    "def get_passport(raw_line):\n",
    "    fields = re.split(r\"[\\s:]\", raw_line)\n",
    "    return {k:v for k,v in zip(fields[:-1:2], fields[1::2])}"
   ]
  },
  {
   "cell_type": "code",
   "execution_count": null,
   "metadata": {},
   "outputs": [],
   "source": [
    "mandatory = {'byr', 'ecl', 'eyr', 'hcl', 'hgt', 'iyr', 'pid'}\n",
    "valid = 0\n",
    "for raw_pass in raw_passports:\n",
    "    passport = get_passport(raw_pass)\n",
    "    if set(passport.keys()) >= mandatory:\n",
    "        valid += 1\n",
    "print(valid)"
   ]
  },
  {
   "cell_type": "markdown",
   "metadata": {},
   "source": [
    "### Part 2"
   ]
  },
  {
   "cell_type": "code",
   "execution_count": null,
   "metadata": {},
   "outputs": [],
   "source": [
    "def vyr(s, low, high):\n",
    "    r = re.match(r\"^\\d{4}$\", s)\n",
    "    if r:\n",
    "        y = int(r.group(0))\n",
    "        return low <= y <= high\n",
    "    return False\n",
    "\n",
    "def vhgt(s):\n",
    "    r = re.match(r\"^(\\d+)(cm|in)$\", s)\n",
    "    if r:\n",
    "        h = int(r.group(1))\n",
    "        u = r.group(2)\n",
    "        if u == 'cm':\n",
    "            return 150 <= h <= 193\n",
    "        elif u == 'in':\n",
    "            return 59 <= h <= 76\n",
    "    return False\n",
    "\n",
    "rules = {\n",
    "    'byr': lambda s: vyr(s, 1920, 2002),\n",
    "    'iyr': lambda s: vyr(s, 2010, 2020),\n",
    "    'eyr': lambda s: vyr(s, 2020, 2030),\n",
    "    'hgt': vhgt,\n",
    "    'hcl': lambda s: bool(re.match(r\"^#[0-9a-f]{6}$\", s)),\n",
    "    'ecl': lambda s: bool(re.match(r\"^(amb|blu|brn|gry|grn|hzl|oth)$\", s)),\n",
    "    'pid': lambda s: bool(re.match(r\"^\\d{9}$\", s)),\n",
    "}"
   ]
  },
  {
   "cell_type": "code",
   "execution_count": null,
   "metadata": {},
   "outputs": [],
   "source": [
    "mandatory = {'byr', 'ecl', 'eyr', 'hcl', 'hgt', 'iyr', 'pid'}\n",
    "valid = 0\n",
    "for raw_pass in raw_passports:\n",
    "    passport = get_passport(raw_pass)\n",
    "    if set(passport.keys()) - {'cid'} == set(rules.keys()) and all(rule(passport[key]) for key, rule in rules.items()):\n",
    "        valid += 1\n",
    "print(valid)"
   ]
  },
  {
   "cell_type": "markdown",
   "metadata": {},
   "source": [
    "## Day 3\n",
    "### Part 1"
   ]
  },
  {
   "cell_type": "code",
   "execution_count": null,
   "metadata": {},
   "outputs": [],
   "source": [
    "with open('input03.txt') as fin:\n",
    "    lines = fin.readlines()\n",
    "    trees = [line.strip() for line in lines]\n",
    "    height, width = len(trees), len(trees[0])"
   ]
  },
  {
   "cell_type": "code",
   "execution_count": null,
   "metadata": {},
   "outputs": [],
   "source": [
    "def step(x, y, dx, dy):\n",
    "    return x+dx, y+dy\n",
    "\n",
    "def run(dx=3, dy=1):\n",
    "    cx, cy = 0, 0\n",
    "    nb_trees = 0\n",
    "    while cy < height:\n",
    "        if trees[cy][cx] == '#':\n",
    "            nb_trees += 1\n",
    "        cx, cy = step(cx, cy, dx, dy)\n",
    "        cx = cx % width\n",
    "    return nb_trees"
   ]
  },
  {
   "cell_type": "code",
   "execution_count": null,
   "metadata": {},
   "outputs": [],
   "source": [
    "run()"
   ]
  },
  {
   "cell_type": "markdown",
   "metadata": {},
   "source": [
    "### Part 2"
   ]
  },
  {
   "cell_type": "code",
   "execution_count": null,
   "metadata": {},
   "outputs": [],
   "source": [
    "slopes = [(1, 1), (3, 1), (5, 1), (7, 1), (1, 2)]\n",
    "count = 1\n",
    "for dx, dy in slopes:\n",
    "    count *= run(dx, dy)\n",
    "print(count)"
   ]
  },
  {
   "cell_type": "markdown",
   "metadata": {},
   "source": [
    "## Day 2\n",
    "### Part 1"
   ]
  },
  {
   "cell_type": "code",
   "execution_count": null,
   "metadata": {},
   "outputs": [],
   "source": [
    "import re\n",
    "from collections import Counter\n",
    "\n",
    "def parse(line):\n",
    "    low, high, letter, password = re.split(r\"[- ]\", line.strip())\n",
    "    \n",
    "    low, high, letter = int(low), int(high), letter[:-1]\n",
    "    \n",
    "    return low, high, letter, password\n",
    "\n",
    "def valid(line):\n",
    "    low, high, letter, password = parse(line)\n",
    "    count = Counter(password)\n",
    "    \n",
    "    return count[letter] >= low and count[letter] <= high\n",
    "\n",
    "with open('input02.txt') as fin:\n",
    "    lines = fin.readlines()\n",
    "    \n",
    "    print(len([line for line in lines if valid(line)])) "
   ]
  },
  {
   "cell_type": "markdown",
   "metadata": {},
   "source": [
    "### Part 2"
   ]
  },
  {
   "cell_type": "code",
   "execution_count": null,
   "metadata": {},
   "outputs": [],
   "source": [
    "def valid_p2(line):\n",
    "    low, high, letter, password = parse(line)\n",
    "    \n",
    "    return (password[low - 1] == letter) != (password[high - 1] == letter)"
   ]
  },
  {
   "cell_type": "code",
   "execution_count": null,
   "metadata": {},
   "outputs": [],
   "source": [
    "with open('input02.txt') as fin:\n",
    "    lines = fin.readlines()\n",
    "    \n",
    "    print(len([line for line in lines if valid_p2(line)])) "
   ]
  },
  {
   "cell_type": "markdown",
   "metadata": {},
   "source": [
    "## Day 1\n",
    "### Part 1"
   ]
  },
  {
   "cell_type": "code",
   "execution_count": null,
   "metadata": {},
   "outputs": [],
   "source": [
    "with open('input01.txt') as fin:\n",
    "    data = [int(d.strip()) for d in fin.readlines()]"
   ]
  },
  {
   "cell_type": "code",
   "execution_count": null,
   "metadata": {},
   "outputs": [],
   "source": [
    "for a in data:\n",
    "    for b in data:\n",
    "        if a+b == 2020:\n",
    "            print(a*b)"
   ]
  },
  {
   "cell_type": "markdown",
   "metadata": {},
   "source": [
    "### Part 2"
   ]
  },
  {
   "cell_type": "code",
   "execution_count": null,
   "metadata": {},
   "outputs": [],
   "source": [
    "for a in data:\n",
    "    for b in data:\n",
    "        for c in data:\n",
    "            if a+b+c == 2020:\n",
    "                print(a*b*c)"
   ]
  }
 ],
 "metadata": {
  "kernelspec": {
   "display_name": "Python 3",
   "language": "python",
   "name": "python3"
  },
  "language_info": {
   "codemirror_mode": {
    "name": "ipython",
    "version": 3
   },
   "file_extension": ".py",
   "mimetype": "text/x-python",
   "name": "python",
   "nbconvert_exporter": "python",
   "pygments_lexer": "ipython3",
   "version": "3.6.10"
  }
 },
 "nbformat": 4,
 "nbformat_minor": 2
}
