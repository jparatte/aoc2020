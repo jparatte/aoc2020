{
 "cells": [
  {
   "cell_type": "markdown",
   "metadata": {},
   "source": [
    "# AOC 2020"
   ]
  },
  {
   "cell_type": "markdown",
   "metadata": {},
   "source": [
    "## Day 3\n",
    "### Part 1"
   ]
  },
  {
   "cell_type": "code",
   "execution_count": null,
   "metadata": {},
   "outputs": [],
   "source": [
    "with open('input03.txt') as fin:\n",
    "    lines = fin.readlines()\n",
    "    trees = [line.strip() for line in lines]\n",
    "    height, width = len(trees), len(trees[0])"
   ]
  },
  {
   "cell_type": "code",
   "execution_count": null,
   "metadata": {},
   "outputs": [],
   "source": [
    "def step(x, y, dx, dy):\n",
    "    return x+dx, y+dy\n",
    "\n",
    "def run(dx=3, dy=1):\n",
    "    cx, cy = 0, 0\n",
    "    nb_trees = 0\n",
    "    while cy < height:\n",
    "        if trees[cy][cx] == '#':\n",
    "            nb_trees += 1\n",
    "        cx, cy = step(cx, cy, dx, dy)\n",
    "        cx = cx % width\n",
    "    return nb_trees"
   ]
  },
  {
   "cell_type": "code",
   "execution_count": null,
   "metadata": {},
   "outputs": [],
   "source": [
    "run()"
   ]
  },
  {
   "cell_type": "markdown",
   "metadata": {},
   "source": [
    "### Part 2"
   ]
  },
  {
   "cell_type": "code",
   "execution_count": null,
   "metadata": {},
   "outputs": [],
   "source": [
    "slopes = [(1, 1), (3, 1), (5, 1), (7, 1), (1, 2)]\n",
    "count = 1\n",
    "for dx, dy in slopes:\n",
    "    count *= run(dx, dy)\n",
    "print(count)"
   ]
  },
  {
   "cell_type": "markdown",
   "metadata": {},
   "source": [
    "## Day 2\n",
    "### Part 1"
   ]
  },
  {
   "cell_type": "code",
   "execution_count": null,
   "metadata": {},
   "outputs": [],
   "source": [
    "import re\n",
    "from collections import Counter\n",
    "\n",
    "def parse(line):\n",
    "    low, high, letter, password = re.split(r\"[- ]\", line.strip())\n",
    "    \n",
    "    low, high, letter = int(low), int(high), letter[:-1]\n",
    "    \n",
    "    return low, high, letter, password\n",
    "\n",
    "def valid(line):\n",
    "    low, high, letter, password = parse(line)\n",
    "    count = Counter(password)\n",
    "    \n",
    "    return count[letter] >= low and count[letter] <= high\n",
    "\n",
    "with open('input02.txt') as fin:\n",
    "    lines = fin.readlines()\n",
    "    \n",
    "    print(len([line for line in lines if valid(line)])) "
   ]
  },
  {
   "cell_type": "markdown",
   "metadata": {},
   "source": [
    "### Part 2"
   ]
  },
  {
   "cell_type": "code",
   "execution_count": null,
   "metadata": {},
   "outputs": [],
   "source": [
    "def valid_p2(line):\n",
    "    low, high, letter, password = parse(line)\n",
    "    \n",
    "    return (password[low - 1] == letter) != (password[high - 1] == letter)"
   ]
  },
  {
   "cell_type": "code",
   "execution_count": null,
   "metadata": {},
   "outputs": [],
   "source": [
    "with open('input02.txt') as fin:\n",
    "    lines = fin.readlines()\n",
    "    \n",
    "    print(len([line for line in lines if valid_p2(line)])) "
   ]
  },
  {
   "cell_type": "markdown",
   "metadata": {},
   "source": [
    "## Day 1\n",
    "### Part 1"
   ]
  },
  {
   "cell_type": "code",
   "execution_count": null,
   "metadata": {},
   "outputs": [],
   "source": [
    "with open('input01.txt') as fin:\n",
    "    data = [int(d.strip()) for d in fin.readlines()]"
   ]
  },
  {
   "cell_type": "code",
   "execution_count": null,
   "metadata": {},
   "outputs": [],
   "source": [
    "for a in data:\n",
    "    for b in data:\n",
    "        if a+b == 2020:\n",
    "            print(a*b)"
   ]
  },
  {
   "cell_type": "markdown",
   "metadata": {},
   "source": [
    "### Part 2"
   ]
  },
  {
   "cell_type": "code",
   "execution_count": null,
   "metadata": {},
   "outputs": [],
   "source": [
    "for a in data:\n",
    "    for b in data:\n",
    "        for c in data:\n",
    "            if a+b+c == 2020:\n",
    "                print(a*b*c)"
   ]
  }
 ],
 "metadata": {
  "kernelspec": {
   "display_name": "Python 3",
   "language": "python",
   "name": "python3"
  },
  "language_info": {
   "codemirror_mode": {
    "name": "ipython",
    "version": 3
   },
   "file_extension": ".py",
   "mimetype": "text/x-python",
   "name": "python",
   "nbconvert_exporter": "python",
   "pygments_lexer": "ipython3",
   "version": "3.6.5"
  }
 },
 "nbformat": 4,
 "nbformat_minor": 2
}
