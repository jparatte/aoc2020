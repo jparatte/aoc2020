{
 "cells": [
  {
   "cell_type": "markdown",
   "metadata": {},
   "source": [
    "# AOC 2020"
   ]
  },
  {
   "cell_type": "markdown",
   "metadata": {},
   "source": [
    "## Day 21\n",
    "### Part 1"
   ]
  },
  {
   "cell_type": "code",
   "execution_count": null,
   "metadata": {},
   "outputs": [],
   "source": [
    "with open('input21.txt') as fin:\n",
    "    lines = [line.strip() for line in fin.readlines()]"
   ]
  },
  {
   "cell_type": "code",
   "execution_count": null,
   "metadata": {},
   "outputs": [],
   "source": [
    "from collections import defaultdict, Counter\n",
    "\n",
    "count = Counter()\n",
    "mapping = defaultdict(list)\n",
    "\n",
    "for line in lines:\n",
    "    ingr, allerg = line.split(' (contains ')\n",
    "    ingredients = ingr.split()\n",
    "    count += Counter(ingredients)\n",
    "    allergens = [al.strip() for al in allerg[:-1].split(\",\")]\n",
    "    \n",
    "    all_ingredients.update(set(ingredients))\n",
    "    \n",
    "    for al in allergens:\n",
    "        mapping[al].append(set(ingredients))\n",
    "    "
   ]
  },
  {
   "cell_type": "code",
   "execution_count": null,
   "metadata": {},
   "outputs": [],
   "source": [
    "from functools import reduce\n",
    "\n",
    "bad_ingredients = set()\n",
    "for maps in mapping.values():\n",
    "    bad_ingredients |= reduce(lambda a, b : a&b , maps)"
   ]
  },
  {
   "cell_type": "code",
   "execution_count": null,
   "metadata": {},
   "outputs": [],
   "source": [
    "sum(c for key, c in count.items() if key not in bad_ingredients)"
   ]
  },
  {
   "cell_type": "markdown",
   "metadata": {},
   "source": [
    "### Part 2"
   ]
  },
  {
   "cell_type": "code",
   "execution_count": null,
   "metadata": {},
   "outputs": [],
   "source": [
    "from functools import reduce\n",
    "\n",
    "bad_map = dict()\n",
    "for key, maps in mapping.items():\n",
    "    bad_map[key] = reduce(lambda a, b : a&b , maps)"
   ]
  },
  {
   "cell_type": "code",
   "execution_count": null,
   "metadata": {},
   "outputs": [],
   "source": [
    "canonical = dict()\n",
    "\n",
    "while len(canonical) < len(bad_map):\n",
    "    for al, ing in bad_map.items():\n",
    "        remaining = ing - set(canonical.keys())\n",
    "        if len(remaining) == 1:\n",
    "            canonical[list(remaining)[0]] = al"
   ]
  },
  {
   "cell_type": "code",
   "execution_count": null,
   "metadata": {},
   "outputs": [],
   "source": [
    "\",\".join([ing for ing, al in sorted(canonical.items(), key=lambda t: t[1])])"
   ]
  },
  {
   "cell_type": "markdown",
   "metadata": {},
   "source": [
    "## Day 20\n",
    "### Part 1"
   ]
  },
  {
   "cell_type": "code",
   "execution_count": null,
   "metadata": {},
   "outputs": [],
   "source": [
    "with open('input20.txt') as fin:\n",
    "    lines = [line for line in fin.readlines()]\n",
    "    raw_tiles = ''.join(lines).split('\\n\\n')[:-1]"
   ]
  },
  {
   "cell_type": "code",
   "execution_count": null,
   "metadata": {},
   "outputs": [],
   "source": [
    "class Tile:\n",
    "    def __init__(self, raw):\n",
    "        lines = raw.split('\\n')\n",
    "        self.id = lines[0].split()[1][:-1]\n",
    "        self.top = lines[1]\n",
    "        self.bottom = lines[-1]\n",
    "        self.left = \"\".join([l[0] for l in lines[1:]])\n",
    "        self.right = \"\".join([l[-1] for l in lines[1:]])\n",
    "        \n",
    "    def __str__(self):\n",
    "        return f\"{self.top} - {self.right} - {self.bottom} - {self.left}\"\n",
    "    \n",
    "    def borders(self, flipped=False):\n",
    "        if flipped:\n",
    "            return set(getattr(self, attr)[::-1] for attr in [\"top\", \"bottom\", \"left\", \"right\"])\n",
    "        else:\n",
    "            return set(getattr(self, attr) for attr in [\"top\", \"bottom\", \"left\", \"right\"])\n",
    "    \n",
    "    def __repr__(self):\n",
    "        return repr(self.id)\n",
    "\n",
    "tiles = [Tile(tile) for tile in raw_tiles]"
   ]
  },
  {
   "cell_type": "code",
   "execution_count": null,
   "metadata": {},
   "outputs": [],
   "source": [
    "def find_possible_matches(tile, tiles):\n",
    "    borders = tile.borders()\n",
    "    possible_matches = 0\n",
    "    for other in tiles:\n",
    "        if other != tile:\n",
    "            if borders & (other.borders() | other.borders(flipped=True)):\n",
    "                possible_matches += 1\n",
    "    return possible_matches\n",
    "\n",
    "matches = {}\n",
    "for tile in tiles:\n",
    "    matches[tile.id] = find_possible_matches(tile, tiles)"
   ]
  },
  {
   "cell_type": "code",
   "execution_count": null,
   "metadata": {},
   "outputs": [],
   "source": [
    "from functools import reduce\n",
    "reduce(lambda a,b : a*b, [int(k) for k, v in matches.items() if v == 2])"
   ]
  },
  {
   "cell_type": "code",
   "execution_count": null,
   "metadata": {},
   "outputs": [],
   "source": [
    "[int(k) for k, v in matches.items() if v == 2]"
   ]
  },
  {
   "cell_type": "markdown",
   "metadata": {},
   "source": [
    "### Part 2"
   ]
  },
  {
   "cell_type": "code",
   "execution_count": null,
   "metadata": {},
   "outputs": [],
   "source": [
    "def vflip(tile):\n",
    "    return tile[::-1]\n",
    "\n",
    "def hflip(tile):\n",
    "    return [t[::-1] for t in tile]\n",
    "\n",
    "def rotate90(tile):\n",
    "    rotate =[]\n",
    "    for idx in range(len(tile)):\n",
    "        rotate.append(\"\".join([t[idx] for t in tile]))\n",
    "    return hflip(rotate)\n",
    "\n",
    "def possible_tiles(tile):\n",
    "    tiles = []\n",
    "    tile_ = tile.copy()\n",
    "    tiles.extend([tile_.copy(), hflip(tile_), vflip(tile_)])\n",
    "    tile_ = rotate90(tile)\n",
    "    tiles.extend([tile_.copy(), hflip(tile_), vflip(tile_)])\n",
    "    tiles.append(rotate90(tile_))\n",
    "    tiles.append(rotate90(rotate90(tile_)))\n",
    "    return tiles\n",
    "\n",
    "class FullTile:\n",
    "    def __init__(self, raw):\n",
    "        lines = raw.split('\\n')\n",
    "        self.id = lines[0].split()[1][:-1]\n",
    "        self._tiles = possible_tiles(lines[1:])\n",
    "        self._ptr = 0\n",
    "        \n",
    "    @property\n",
    "    def tile(self):\n",
    "        return self._tiles[self._ptr]\n",
    "    \n",
    "    @property\n",
    "    def subtile(self):\n",
    "        return [t[1:-1] for t in self.tile[1:-1] ]\n",
    "        \n",
    "    @property\n",
    "    def top(self):\n",
    "        return self.tile[0]\n",
    "    \n",
    "    @property\n",
    "    def bottom(self):\n",
    "        return self.tile[-1]\n",
    "    \n",
    "    @property\n",
    "    def left(self):\n",
    "        return \"\".join([t[0] for t in self.tile ])\n",
    "    \n",
    "    @property\n",
    "    def right(self):\n",
    "        return \"\".join([t[-1] for t in self.tile ])\n",
    "    \n",
    "    def find_variant(self, target, attr):\n",
    "        bckp_ptr = self._ptr\n",
    "        for ptr in range(len(self._tiles)):\n",
    "            self._ptr = ptr\n",
    "            if getattr(self, attr) == target:\n",
    "                return True\n",
    "        self._ptr = bckp_ptr\n",
    "        return False"
   ]
  },
  {
   "cell_type": "code",
   "execution_count": null,
   "metadata": {},
   "outputs": [],
   "source": [
    "full_tiles = [FullTile(raw) for raw in raw_tiles]\n",
    "mapping = {tile.id: tile for tile in full_tiles}"
   ]
  },
  {
   "cell_type": "code",
   "execution_count": null,
   "metadata": {},
   "outputs": [],
   "source": [
    "tile = mapping['1723']\n",
    "\n",
    "assigned = {tile}\n",
    "to_process = [tile]\n",
    "\n",
    "matching = defaultdict(dict)\n",
    "\n",
    "while to_process:\n",
    "    tile = to_process.pop()\n",
    "    \n",
    "    if tile in processed:\n",
    "        continue\n",
    "    \n",
    "    for other in full_tiles:\n",
    "        if other == tile:\n",
    "            continue\n",
    "\n",
    "        for attr_a, attr_b in zip([\"top\", \"bottom\", \"left\", \"right\"], [\"bottom\", \"top\", \"right\", \"left\"]):\n",
    "            res = other.find_variant(getattr(tile, attr_a), attr_b)\n",
    "            if res:\n",
    "                assigned.add(other)\n",
    "                to_process.append(other)\n",
    "                matching[tile.id][attr_a] = other.id\n",
    "                \n",
    "    processed.add(tile)\n",
    "        "
   ]
  },
  {
   "cell_type": "code",
   "execution_count": null,
   "metadata": {},
   "outputs": [],
   "source": [
    "Counter([len(match) for match in matching.values()])"
   ]
  },
  {
   "cell_type": "code",
   "execution_count": null,
   "metadata": {},
   "outputs": [],
   "source": [
    "x = 0\n",
    "y = 11\n",
    "map_ = defaultdict(dict)\n",
    "\n",
    "\n",
    "current = mapping['1723']\n",
    "current.x = x\n",
    "current.y = y\n",
    "to_process.append(current)\n",
    "\n",
    "processed = set()\n",
    "\n",
    "while to_process:\n",
    "    current = to_process.pop()\n",
    "    if current in processed:\n",
    "        continue\n",
    "    \n",
    "    for link, nid in matching[current.id].items():\n",
    "        other = mapping[nid]\n",
    "        if link == 'left':\n",
    "            other.x = current.x - 1\n",
    "            other.y = current.y\n",
    "        if link == 'top':\n",
    "            other.x = current.x\n",
    "            other.y = current.y - 1\n",
    "        if link == 'right':\n",
    "            other.x = current.x + 1\n",
    "            other.y = current.y\n",
    "        if link == 'bottom':\n",
    "            other.x = current.x\n",
    "            other.y = current.y + 1\n",
    "        to_process.append(other)\n",
    "        processed.add(current)"
   ]
  },
  {
   "cell_type": "code",
   "execution_count": null,
   "metadata": {},
   "outputs": [],
   "source": [
    "map_ = defaultdict(dict)\n",
    "\n",
    "for tile in full_tiles:\n",
    "    map_[tile.x][tile.y] = tile"
   ]
  },
  {
   "cell_type": "code",
   "execution_count": null,
   "metadata": {},
   "outputs": [],
   "source": [
    "fulltile = []\n",
    "for j in range(12):\n",
    "    fulltile.extend([\"\".join([map_[i][j].subtile[y] for i in range(12)]) for y in range(8)])"
   ]
  },
  {
   "cell_type": "code",
   "execution_count": null,
   "metadata": {},
   "outputs": [],
   "source": [
    "pattern = [\n",
    "    \"                  # \",\n",
    "    \"#    ##    ##    ###\",\n",
    "    \" #  #  #  #  #  #   \"]\n",
    "pattern = [p.replace(\" \", \".\") for p in pattern]"
   ]
  },
  {
   "cell_type": "code",
   "execution_count": null,
   "metadata": {},
   "outputs": [],
   "source": [
    "import re\n",
    "\n",
    "def find_dragons(fulltile):\n",
    "    dragons = []\n",
    "    for l1, l2, l3 in zip(fulltile[:-2], fulltile[1:-1], fulltile[2:]):\n",
    "        for i in range(len(l1) - 20):\n",
    "            if re.match(pattern[0], l1[i:i+20]) and re.match(pattern[1], l2[i:i+20]) and re.match(pattern[2], l3[i:i+20]):\n",
    "                dragons.append([l1[i:i+20], l2[i:i+20], l3[i:i+20]])\n",
    "    return dragons"
   ]
  },
  {
   "cell_type": "code",
   "execution_count": null,
   "metadata": {},
   "outputs": [],
   "source": [
    "for idx, ftile in enumerate(possible_tiles(fulltile)):\n",
    "    dragons = find_dragons(ftile)\n",
    "    if dragons and False:\n",
    "        for dragon in dragons:\n",
    "            for l in dragon:\n",
    "                print(l)\n",
    "            print()\n",
    "        break"
   ]
  },
  {
   "cell_type": "code",
   "execution_count": null,
   "metadata": {},
   "outputs": [],
   "source": [
    "nb_hash_per_dragon = reduce(lambda a, b: a + b, [Counter(p) for p in pattern])['#']\n",
    "nb_hash_total = reduce(lambda a, b: a + b, [Counter(p) for p in fulltile])['#']\n",
    "print(nb_hash_total - (len(dragons)*nb_hash_per_dragon))"
   ]
  },
  {
   "cell_type": "markdown",
   "metadata": {},
   "source": [
    "## Day 19\n",
    "### Part 1"
   ]
  },
  {
   "cell_type": "code",
   "execution_count": null,
   "metadata": {},
   "outputs": [],
   "source": [
    "with open('input19.txt') as fin:\n",
    "    lines = [line for line in fin.readlines()]\n",
    "    rules, messages = ''.join(lines).split('\\n\\n')\n",
    "    rules = rules.split('\\n')\n",
    "    messages = messages.split('\\n')"
   ]
  },
  {
   "cell_type": "code",
   "execution_count": null,
   "metadata": {},
   "outputs": [],
   "source": [
    "rules_dict = {}\n",
    "for rule in rules:\n",
    "    idx, ruleset = rule.split(': ')\n",
    "    ruleset = ruleset.replace(\"\\\"\", \"\")\n",
    "    rules_dict[idx] = ruleset.split(' | ')"
   ]
  },
  {
   "cell_type": "code",
   "execution_count": null,
   "metadata": {},
   "outputs": [],
   "source": [
    "def get_valid_messages(line):\n",
    "    lines = [line]\n",
    "    valid_messages = set()\n",
    "\n",
    "    while lines:\n",
    "        line = lines.pop()\n",
    "\n",
    "        if all(char not in rules_dict for char in line.split()):\n",
    "            valid_messages.add(line)\n",
    "            continue\n",
    "\n",
    "        new_line = []\n",
    "        second_line = None\n",
    "        for cnt, idx in enumerate(line.split()):\n",
    "            if idx not in rules_dict:\n",
    "                new_line.append(idx)\n",
    "            else:\n",
    "                subrule = rules_dict[idx]\n",
    "                if len(subrule) == 1:\n",
    "                    new_line.append(subrule[0])\n",
    "                elif len(subrule) == 2:\n",
    "                    second_line = new_line.copy()\n",
    "                    new_line.append(subrule[0])\n",
    "                    second_line.append(subrule[1])\n",
    "                break\n",
    "        new_line.extend(line.split()[cnt+1:])\n",
    "        lines.append(\" \".join(new_line))\n",
    "        if second_line:\n",
    "            second_line.extend(line.split()[cnt+1:])\n",
    "            lines.append(\" \".join(second_line))\n",
    "        \n",
    "    return valid_messages"
   ]
  },
  {
   "cell_type": "code",
   "execution_count": null,
   "metadata": {},
   "outputs": [],
   "source": [
    "valid_messages = get_valid_messages(rules_dict['0'][0])\n",
    "valid_messages = set(msg.replace(\" \", \"\") for msg in valid_messages)\n",
    "len([msg for msg in messages if msg in valid_messages])"
   ]
  },
  {
   "cell_type": "markdown",
   "metadata": {},
   "source": [
    "### Part 2"
   ]
  },
  {
   "cell_type": "code",
   "execution_count": null,
   "metadata": {},
   "outputs": [],
   "source": [
    "part_a = set(msg.replace(\" \", \"\") for msg in get_valid_messages('42'))\n",
    "part_b = set(msg.replace(\" \", \"\") for msg in get_valid_messages('31'))"
   ]
  },
  {
   "cell_type": "code",
   "execution_count": null,
   "metadata": {},
   "outputs": [],
   "source": [
    "def translate(msg):\n",
    "    new_msg = \"\"\n",
    "    for i in range(0, len(msg), 8):\n",
    "        if msg[i:i+8] in part_a:\n",
    "            new_msg = f\"{new_msg}A\"\n",
    "        elif msg[i:i+8] in part_b:\n",
    "            new_msg = f\"{new_msg}B\"\n",
    "        else:\n",
    "            print(\"ERROR\")\n",
    "    return new_msg\n",
    "\n",
    "import re\n",
    "\n",
    "def valid_translation(msg):\n",
    "    res = re.match(r\"^(A+)(B+)$\", msg)\n",
    "    if res and len(res.group(1)) > len(res.group(2)):\n",
    "        return True\n",
    "    return False\n",
    "    \n",
    "#[(translate(msg), valid_translation(translate(msg))) for msg in messages]\n",
    "len([msg for msg in messages if valid_translation(translate(msg))])"
   ]
  },
  {
   "cell_type": "markdown",
   "metadata": {},
   "source": [
    "## Day 18\n",
    "### Part 1"
   ]
  },
  {
   "cell_type": "code",
   "execution_count": null,
   "metadata": {},
   "outputs": [],
   "source": [
    "with open('input18.txt') as fin:\n",
    "    lines = [line.strip().replace(\" \", \"\") for line in fin.readlines()]"
   ]
  },
  {
   "cell_type": "code",
   "execution_count": null,
   "metadata": {},
   "outputs": [],
   "source": [
    "def add(a, b):\n",
    "    return int(a) + int(b)\n",
    "\n",
    "def mult(a, b):\n",
    "    return int(a)*int(b)\n",
    "\n",
    "def parse(line):\n",
    "    val = 0\n",
    "    op = add\n",
    "    idx = 0\n",
    "\n",
    "    while idx < len(line):\n",
    "        elem = line[idx]\n",
    "        if elem == '(':\n",
    "            other, length = parse(line[idx+1:])\n",
    "            val = op(val, other)\n",
    "            idx += length\n",
    "        elif elem == ')':\n",
    "            return val, idx+1\n",
    "        elif elem == '+':\n",
    "            op = add\n",
    "        elif elem == '*':\n",
    "            op = mult\n",
    "        else:\n",
    "            val = op(val, elem)\n",
    "        idx += 1\n",
    "    return val"
   ]
  },
  {
   "cell_type": "code",
   "execution_count": null,
   "metadata": {},
   "outputs": [],
   "source": [
    "sum(parse(line) for line in lines)"
   ]
  },
  {
   "cell_type": "markdown",
   "metadata": {},
   "source": [
    "### Part 2"
   ]
  },
  {
   "cell_type": "code",
   "execution_count": null,
   "metadata": {},
   "outputs": [],
   "source": [
    "from functools import reduce\n",
    "import re\n",
    "\n",
    "def reduce_mult(ops):\n",
    "    if len(ops) > 1:\n",
    "        return reduce(lambda a, b: a*b, ops)\n",
    "    return int(ops[0])\n",
    "\n",
    "def reduce_add(ops):\n",
    "    if len(ops) > 1:\n",
    "        return reduce(lambda a, b: int(a)+int(b), ops)\n",
    "    return int(ops[0])\n",
    "\n",
    "def parse_unary(line):\n",
    "    return reduce_mult([reduce_add(elem.split('+')) for elem in line.split('*')])\n",
    "\n",
    "def parse(line):\n",
    "    res = re.match(r\"(.*)(\\([^\\)]+\\))(.*)\", line)\n",
    "    if res:\n",
    "        return parse(f\"{res.group(1)}{parse_unary(res.group(2)[1:-1])}{res.group(3)}\")\n",
    "    return parse_unary(line)"
   ]
  },
  {
   "cell_type": "code",
   "execution_count": null,
   "metadata": {},
   "outputs": [],
   "source": [
    "sum(parse(line) for line in lines)"
   ]
  },
  {
   "cell_type": "markdown",
   "metadata": {},
   "source": [
    "## Day 17\n",
    "### Part 1"
   ]
  },
  {
   "cell_type": "code",
   "execution_count": null,
   "metadata": {},
   "outputs": [],
   "source": [
    "with open('input17.txt') as fin:\n",
    "    lines = [line.strip() for line in fin.readlines()]"
   ]
  },
  {
   "cell_type": "code",
   "execution_count": null,
   "metadata": {},
   "outputs": [],
   "source": [
    "active = set()\n",
    "\n",
    "for y, line in enumerate(lines):\n",
    "    for x, val in enumerate(line):\n",
    "        if val == '#':\n",
    "            active.add((x, y, 0))"
   ]
  },
  {
   "cell_type": "code",
   "execution_count": null,
   "metadata": {},
   "outputs": [],
   "source": [
    "def neighbors(pt):\n",
    "    nn = set()\n",
    "    for x in range(pt[0]-1, pt[0]+2):\n",
    "        for y in range(pt[1]-1, pt[1]+2):\n",
    "            for z in range(pt[2]-1, pt[2]+2):\n",
    "                nn.add((x, y, z))\n",
    "    return nn - {pt}\n",
    "\n",
    "for i in range(6):\n",
    "    neighborhood = set.union(*[neighbors(pt) for pt in active])\n",
    "    \n",
    "    new_active = set()\n",
    "\n",
    "    for pt in active:\n",
    "        if 2 <= len(neighbors(pt) & active) <= 3:\n",
    "            new_active.add(pt)\n",
    "\n",
    "    for pt in neighborhood:\n",
    "        conv = neighbors(pt) & active\n",
    "        if pt in active and 2 <= len(conv) <= 3:\n",
    "            new_active.add(pt)\n",
    "        if pt not in active and len(conv) == 3:\n",
    "            new_active.add(pt)\n",
    "            \n",
    "    active = new_active\n",
    "    \n",
    "len(new_active)"
   ]
  },
  {
   "cell_type": "markdown",
   "metadata": {},
   "source": [
    "### Part 2"
   ]
  },
  {
   "cell_type": "code",
   "execution_count": null,
   "metadata": {},
   "outputs": [],
   "source": [
    "def neighbors(pt):\n",
    "    nn = set()\n",
    "    for x in range(pt[0]-1, pt[0]+2):\n",
    "        for y in range(pt[1]-1, pt[1]+2):\n",
    "            for z in range(pt[2]-1, pt[2]+2):\n",
    "                for w in range(pt[3]-1, pt[3]+2):\n",
    "                    nn.add((x, y, z, w))\n",
    "    return nn - {pt}"
   ]
  },
  {
   "cell_type": "code",
   "execution_count": null,
   "metadata": {},
   "outputs": [],
   "source": [
    "active = set()\n",
    "\n",
    "for y, line in enumerate(lines):\n",
    "    for x, val in enumerate(line):\n",
    "        if val == '#':\n",
    "            active.add((x, y, 0, 0))"
   ]
  },
  {
   "cell_type": "code",
   "execution_count": null,
   "metadata": {},
   "outputs": [],
   "source": [
    "for i in range(6):\n",
    "    neighborhood = set.union(*[neighbors(pt) for pt in active])\n",
    "    \n",
    "    new_active = set()\n",
    "\n",
    "    for pt in active:\n",
    "        if 2 <= len(neighbors(pt) & active) <= 3:\n",
    "            new_active.add(pt)\n",
    "\n",
    "    for pt in neighborhood:\n",
    "        conv = neighbors(pt) & active\n",
    "        if pt in active and 2 <= len(conv) <= 3:\n",
    "            new_active.add(pt)\n",
    "        if pt not in active and len(conv) == 3:\n",
    "            new_active.add(pt)\n",
    "            \n",
    "    active = new_active\n",
    "    \n",
    "len(new_active)"
   ]
  },
  {
   "cell_type": "markdown",
   "metadata": {},
   "source": [
    "## Day 16\n",
    "### Part 1"
   ]
  },
  {
   "cell_type": "code",
   "execution_count": null,
   "metadata": {},
   "outputs": [],
   "source": [
    "with open('input16.txt') as fin:\n",
    "    lines = [line for line in fin.readlines()]\n",
    "    groups = ''.join(lines).split('\\n\\n')\n",
    "    constraints, ticket, nearby = groups"
   ]
  },
  {
   "cell_type": "code",
   "execution_count": null,
   "metadata": {},
   "outputs": [],
   "source": [
    "import re\n",
    "\n",
    "def compute_constraints(constraints):\n",
    "\n",
    "    const_dict = {}\n",
    "\n",
    "    for const in constraints.split('\\n'):\n",
    "        match = re.match(r\"(.*): (\\d+)-(\\d+) or (\\d+)-(\\d+)\", const)\n",
    "        const_dict[match.group(1)] = [(int(match.group(2)), int(match.group(3))), (int(match.group(4)), int(match.group(5)))]\n",
    "        \n",
    "    return const_dict\n",
    "\n",
    "def compute_ranges(const_dict):\n",
    "    ranges = []\n",
    "    for const_ranges in const_dict.values():\n",
    "        valid_ranges = set()\n",
    "        for r_ in const_ranges:\n",
    "            valid_ranges |= set(range(r_[0], r_[1]+1))\n",
    "        ranges.append(valid_ranges)\n",
    "    return ranges\n",
    "\n",
    "def compute_tickets(ticket, nearby):\n",
    "    my_ticket = [int(val) for val in ticket.split('\\n')[-1].split(',')]\n",
    "    nearby_tickets = [[int(val) for val in near_ticket.split(',')] for near_ticket in nearby.strip().split('\\n')[1:]]\n",
    "    return my_ticket, nearby_tickets"
   ]
  },
  {
   "cell_type": "code",
   "execution_count": null,
   "metadata": {},
   "outputs": [],
   "source": [
    "from functools import reduce\n",
    "\n",
    "const_dict = compute_constraints(constraints)\n",
    "my_ticket, nearby_tickets = compute_tickets(ticket, nearby)\n",
    "\n",
    "ranges = compute_ranges(const_dict)\n",
    "full_ranges = reduce(lambda a, b: a|b, ranges)\n",
    "\n",
    "invalid_values = []\n",
    "\n",
    "for tick in nearby_tickets:\n",
    "    for val in tick:\n",
    "        if val not in full_ranges:\n",
    "            invalid_values.append(val)\n",
    "sum(invalid_values)"
   ]
  },
  {
   "cell_type": "markdown",
   "metadata": {},
   "source": [
    "### Part 2"
   ]
  },
  {
   "cell_type": "code",
   "execution_count": null,
   "metadata": {},
   "outputs": [],
   "source": [
    "valid_tickets = [tick for tick in nearby_tickets if all(v in full_ranges for v in tick)]\n",
    "valid_tickets.append(my_ticket)"
   ]
  },
  {
   "cell_type": "code",
   "execution_count": null,
   "metadata": {},
   "outputs": [],
   "source": [
    "import numpy as np\n",
    "\n",
    "from collections import Counter\n",
    "\n",
    "def unique_match(mapping):\n",
    "    count = Counter()\n",
    "\n",
    "    for map_ in mapping:\n",
    "        count += Counter(map_)\n",
    "    field, c = count.most_common()[-1]\n",
    "    if c == 1:\n",
    "        return field\n",
    "    \n",
    "def map_match(options, field):\n",
    "    for idx, option in enumerate(options):\n",
    "        if match in option:\n",
    "            return idx\n",
    "\n",
    "def compute_options(valid_tickets, ranges):\n",
    "    options = []\n",
    "    for field in np.array(valid_tickets).T:\n",
    "        options.append(set(idx for idx, range_ in enumerate(ranges) if set(field) <= range_ ))\n",
    "        \n",
    "    return options"
   ]
  },
  {
   "cell_type": "code",
   "execution_count": null,
   "metadata": {},
   "outputs": [],
   "source": [
    "ranges = compute_ranges(const_dict)\n",
    "options = compute_options(valid_tickets, ranges)\n",
    "\n",
    "mapping = {}\n",
    "for i in range(len(options)):\n",
    "    match = unique_match(options)\n",
    "    idx = map_match(options, match)\n",
    "    mapping[match] = idx\n",
    "    options[idx] = set()\n",
    "    \n",
    "val = 1\n",
    "for i in range(6):\n",
    "    val *= my_ticket[mapping[i]]\n",
    "print(val)"
   ]
  },
  {
   "cell_type": "markdown",
   "metadata": {},
   "source": [
    "## Day 15"
   ]
  },
  {
   "cell_type": "code",
   "execution_count": null,
   "metadata": {},
   "outputs": [],
   "source": []
  },
  {
   "cell_type": "code",
   "execution_count": null,
   "metadata": {},
   "outputs": [],
   "source": [
    "inp = [0,13,1,16,6,17]"
   ]
  },
  {
   "cell_type": "code",
   "execution_count": null,
   "metadata": {},
   "outputs": [],
   "source": [
    "from collections import defaultdict, deque\n",
    "\n",
    "def run(inp, index):\n",
    "\n",
    "    memory = defaultdict(deque)\n",
    "\n",
    "    for idx, v in enumerate(inp):\n",
    "        memory[v].appendleft(idx)\n",
    "\n",
    "    last_nb = inp[-1]\n",
    "    count = len(inp)\n",
    "\n",
    "    while count < index:\n",
    "        if len(memory[last_nb]) > 1:\n",
    "            last_nb = memory[last_nb][0] - memory[last_nb][1]\n",
    "            memory[last_nb].appendleft(count)\n",
    "        else:\n",
    "            last_nb = 0\n",
    "            memory[0].appendleft(count)\n",
    "        count += 1\n",
    "    return last_nb"
   ]
  },
  {
   "cell_type": "markdown",
   "metadata": {},
   "source": [
    "### Part 1"
   ]
  },
  {
   "cell_type": "code",
   "execution_count": null,
   "metadata": {},
   "outputs": [],
   "source": [
    "run(inp, 2020)"
   ]
  },
  {
   "cell_type": "markdown",
   "metadata": {},
   "source": [
    "### Part 2"
   ]
  },
  {
   "cell_type": "code",
   "execution_count": null,
   "metadata": {},
   "outputs": [],
   "source": [
    "run(inp, 30000000)"
   ]
  },
  {
   "cell_type": "markdown",
   "metadata": {},
   "source": [
    "## Day 14\n",
    "### Part 1"
   ]
  },
  {
   "cell_type": "code",
   "execution_count": null,
   "metadata": {},
   "outputs": [],
   "source": [
    "with open('input14.txt') as fin:\n",
    "    lines = [line.strip() for line in fin.readlines()]"
   ]
  },
  {
   "cell_type": "code",
   "execution_count": null,
   "metadata": {},
   "outputs": [],
   "source": [
    "def convert(nb, mask):\n",
    "    b = int(bin(int(nb))[2:])\n",
    "    nb = list(f\"{b:036}\")\n",
    "    for idx, m in enumerate(mask):\n",
    "        if m != 'X':\n",
    "            nb[idx] = m\n",
    "    nb = \"\".join(nb)\n",
    "    return int(f\"0b{nb}\", 2)"
   ]
  },
  {
   "cell_type": "code",
   "execution_count": null,
   "metadata": {},
   "outputs": [],
   "source": [
    "memory = {}\n",
    "\n",
    "mask = None\n",
    "\n",
    "for line in lines:\n",
    "    args = line.split()\n",
    "    if args[0][:4] == 'mask':\n",
    "        mask = args[-1]\n",
    "    else:\n",
    "        addr = int(args[0][4:-1])\n",
    "        nb = args[-1]\n",
    "        memory[addr] = convert(nb, mask)\n",
    "\n",
    "sum(memory.values())"
   ]
  },
  {
   "cell_type": "markdown",
   "metadata": {},
   "source": [
    "### Part 2"
   ]
  },
  {
   "cell_type": "code",
   "execution_count": null,
   "metadata": {},
   "outputs": [],
   "source": [
    "def convert_addr(addr, mask):\n",
    "    b = int(bin(int(addr))[2:])\n",
    "    nb = list(f\"{b:036}\")\n",
    "    mask_list = list(mask)\n",
    "    for idx, m in enumerate(mask):\n",
    "        if m != '0':\n",
    "            nb[idx] = m\n",
    "    return [int(f\"0b{ad}\", 2) for ad in  compute_addresses(\"\".join(nb))]\n",
    "\n",
    "def compute_addresses(mask):\n",
    "    masks = []\n",
    "    mask_list = list(mask)\n",
    "    for idx, m in enumerate(mask):\n",
    "        if m == 'X':\n",
    "            for bit in ['0', '1']:\n",
    "                mask_list[idx] = bit\n",
    "                masks.extend(compute_masks(\"\".join(mask_list)))\n",
    "            break\n",
    "    else:\n",
    "        masks.append(\"\".join(mask_list))\n",
    "    return masks"
   ]
  },
  {
   "cell_type": "code",
   "execution_count": null,
   "metadata": {},
   "outputs": [],
   "source": [
    "memory = {}\n",
    "\n",
    "mask = None\n",
    "\n",
    "for line in lines:\n",
    "    args = line.split()\n",
    "    if args[0][:4] == 'mask':\n",
    "        mask = args[-1]\n",
    "    else:\n",
    "        addr = int(args[0][4:-1])\n",
    "        nb = args[-1]\n",
    "        for ad in convert_addr(addr, mask):\n",
    "            memory[ad] = int(nb)\n",
    "\n",
    "sum(memory.values())"
   ]
  },
  {
   "cell_type": "markdown",
   "metadata": {},
   "source": [
    "## Day 13\n",
    "### Part 1"
   ]
  },
  {
   "cell_type": "code",
   "execution_count": null,
   "metadata": {},
   "outputs": [],
   "source": [
    "with open('input13.txt') as fin:\n",
    "    lines = [line.strip() for line in fin.readlines()]"
   ]
  },
  {
   "cell_type": "code",
   "execution_count": null,
   "metadata": {},
   "outputs": [],
   "source": [
    "ts = int(lines[0])\n",
    "buses = [int(b) for b in lines[1].split(',') if b != 'x']"
   ]
  },
  {
   "cell_type": "code",
   "execution_count": null,
   "metadata": {},
   "outputs": [],
   "source": [
    "wait = [(bid - ts % bid) % bid for bid in buses]\n",
    "best_pair = min(zip(wait, buses))\n",
    "best_pair[0]*best_pair[1]"
   ]
  },
  {
   "cell_type": "markdown",
   "metadata": {},
   "source": [
    "### Part 2"
   ]
  },
  {
   "cell_type": "code",
   "execution_count": null,
   "metadata": {},
   "outputs": [],
   "source": [
    "buses = [(int(bid), idx) for idx, bid in enumerate(lines[1].split(',')) if bid != 'x']\n",
    "buses = [(int(bid), (int(bid) - idx) % int(bid)) for idx, bid in enumerate(lines[1].split(',')) if bid != 'x']"
   ]
  },
  {
   "cell_type": "code",
   "execution_count": null,
   "metadata": {},
   "outputs": [],
   "source": [
    "lines = [[], \"7,13,x,x,59,x,31,19\"]"
   ]
  },
  {
   "cell_type": "code",
   "execution_count": null,
   "metadata": {},
   "outputs": [],
   "source": [
    "from functools import reduce\n",
    "\n",
    "def chinese_remainder(buses):\n",
    "    sum_ = 0\n",
    "    prod = reduce(lambda a, b: a*b, [b[0] for b in buses])\n",
    "    for n_i, a_i in buses:\n",
    "        p = prod // n_i\n",
    "        sum_ += a_i * mul_inv(p, n_i) * p\n",
    "    return sum_ % prod\n",
    " \n",
    "def mul_inv(a, b):\n",
    "    b0 = b\n",
    "    x0, x1 = 0, 1\n",
    "    if b == 1: return 1\n",
    "    while a > 1:\n",
    "        q = a // b\n",
    "        a, b = b, a%b\n",
    "        x0, x1 = x1 - q * x0, x0\n",
    "    if x1 < 0: x1 += b0\n",
    "    return x1"
   ]
  },
  {
   "cell_type": "code",
   "execution_count": null,
   "metadata": {},
   "outputs": [],
   "source": [
    "chinese_remainder(buses)"
   ]
  },
  {
   "cell_type": "markdown",
   "metadata": {},
   "source": [
    "## Day 12\n",
    "### Part 1"
   ]
  },
  {
   "cell_type": "code",
   "execution_count": null,
   "metadata": {},
   "outputs": [],
   "source": [
    "with open('input12.txt') as fin:\n",
    "    lines = [line.strip() for line in fin.readlines()]\n",
    "    directions = [(line[0], int(line[1:])) for line in lines]"
   ]
  },
  {
   "cell_type": "code",
   "execution_count": null,
   "metadata": {},
   "outputs": [],
   "source": [
    "import math\n",
    "\n",
    "class Ship:\n",
    "    def __init__(self):\n",
    "        self.x = 0\n",
    "        self.y = 0\n",
    "        self.angle = 0\n",
    "        \n",
    "    def forward(self, amount):\n",
    "        dx = math.cos(math.radians(self.angle))\n",
    "        dy = math.sin(math.radians(self.angle))\n",
    "        \n",
    "        self.x += round(dx*amount)\n",
    "        self.y += round(dy*amount)\n",
    "        \n",
    "    def move(self, cmd, amount):\n",
    "        if cmd == 'N':\n",
    "            self.y += amount\n",
    "        elif cmd == 'W':\n",
    "            self.x -= amount\n",
    "        elif cmd == 'S':\n",
    "            self.y -= amount\n",
    "        elif cmd == 'E':\n",
    "            self.x += amount\n",
    "        elif cmd == 'L':\n",
    "            self.angle += amount\n",
    "        elif cmd == 'R':\n",
    "            self.angle -= amount\n",
    "        elif cmd == 'F':\n",
    "            self.forward(amount)\n",
    "        else:\n",
    "            print(f\"Unknown command {cmd}\")\n",
    "            \n",
    "    def location(self):\n",
    "        return self.x, self.y"
   ]
  },
  {
   "cell_type": "code",
   "execution_count": null,
   "metadata": {},
   "outputs": [],
   "source": [
    "ship = Ship()\n",
    "\n",
    "for direction in directions:\n",
    "    ship.move(*direction)\n",
    "sum(abs(l) for l in ship.location())"
   ]
  },
  {
   "cell_type": "markdown",
   "metadata": {},
   "source": [
    "### Part2"
   ]
  },
  {
   "cell_type": "code",
   "execution_count": null,
   "metadata": {},
   "outputs": [],
   "source": [
    "import math\n",
    "\n",
    "class ShipV2:\n",
    "    def __init__(self):\n",
    "        self.x = 0\n",
    "        self.y = 0\n",
    "        self.vx = 10\n",
    "        self.vy = 1\n",
    "        \n",
    "    def rotate(self, angle):\n",
    "        dx = math.cos(math.radians(angle))\n",
    "        dy = math.sin(math.radians(angle))\n",
    "        \n",
    "        self.vx, self.vy = round((dx * self.vx) - (dy * self.vy)), round((dy * self.vx) + (dx * self.vy))\n",
    "        \n",
    "    def forward(self, amount):\n",
    "        self.x += amount*self.vx\n",
    "        self.y += amount*self.vy\n",
    "        \n",
    "    def move(self, cmd, amount):\n",
    "        if cmd == 'N':\n",
    "            self.vy += amount\n",
    "        elif cmd == 'W':\n",
    "            self.vx -= amount\n",
    "        elif cmd == 'S':\n",
    "            self.vy -= amount\n",
    "        elif cmd == 'E':\n",
    "            self.vx += amount\n",
    "        elif cmd == 'L':\n",
    "            self.rotate(amount)\n",
    "        elif cmd == 'R':\n",
    "            self.rotate(-amount)\n",
    "        elif cmd == 'F':\n",
    "            self.forward(amount)\n",
    "        else:\n",
    "            print(f\"Unknown command {cmd}\")\n",
    "            \n",
    "    def location(self):\n",
    "        return self.x, self.y"
   ]
  },
  {
   "cell_type": "code",
   "execution_count": null,
   "metadata": {},
   "outputs": [],
   "source": [
    "ship = ShipV2()\n",
    "\n",
    "for direction in directions:\n",
    "    ship.move(*direction)\n",
    "sum(abs(l) for l in ship.location())"
   ]
  },
  {
   "cell_type": "markdown",
   "metadata": {},
   "source": [
    "## Day 11\n",
    "### Part 1"
   ]
  },
  {
   "cell_type": "code",
   "execution_count": null,
   "metadata": {
    "scrolled": true
   },
   "outputs": [],
   "source": [
    "with open('input11.txt') as fin:\n",
    "    lines = [line.strip() for line in fin.readlines()]"
   ]
  },
  {
   "cell_type": "code",
   "execution_count": null,
   "metadata": {
    "scrolled": true
   },
   "outputs": [],
   "source": [
    "from collections import Counter, defaultdict\n",
    "\n",
    "def get_empty_area():\n",
    "    \n",
    "    area = defaultdict(lambda : defaultdict(lambda :'.'))\n",
    "\n",
    "    for i, l in enumerate(lines):\n",
    "        for j, s in enumerate(l):\n",
    "            area[i][j] = s\n",
    "            \n",
    "    return area\n",
    "\n",
    "def check(area, x, y):\n",
    "    return Counter(area[i][j] for i in range(x-1, x+2) for j in range(y-1, y+2) if i != x or j != y)\n",
    "\n",
    "def count(area):\n",
    "    return Counter(s for l in area.values() for s in l.values())\n",
    "\n",
    "def iterate(area):\n",
    "    new_area = get_empty_area()\n",
    "    for i, l in enumerate(lines):\n",
    "        for j, s in enumerate(l):\n",
    "            if s == '.':\n",
    "                continue\n",
    "            c = check(area, i, j)\n",
    "\n",
    "            if c['#'] == 0:\n",
    "                new_area[i][j] = '#'\n",
    "            elif c['#'] >= 4:\n",
    "                new_area[i][j] = 'L'\n",
    "            else:\n",
    "                new_area[i][j] = area[i][j]\n",
    "    return new_area"
   ]
  },
  {
   "cell_type": "code",
   "execution_count": null,
   "metadata": {
    "scrolled": true
   },
   "outputs": [],
   "source": [
    "area = get_empty_area()\n",
    "\n",
    "nb_occupied = count(area)['#']\n",
    "\n",
    "for i in range(1000):\n",
    "    area = iterate(area)\n",
    "    new_nb = count(area)['#']\n",
    "    if new_nb == nb_occupied:\n",
    "        print(new_nb)\n",
    "        break\n",
    "    nb_occupied = new_nb"
   ]
  },
  {
   "cell_type": "markdown",
   "metadata": {},
   "source": [
    "### Part 2"
   ]
  },
  {
   "cell_type": "code",
   "execution_count": null,
   "metadata": {
    "scrolled": true
   },
   "outputs": [],
   "source": [
    "def check_line(area, x, y, dx, dy, w, h):\n",
    "    i, j = x, y\n",
    "    while True:\n",
    "        i += dx\n",
    "        j += dy\n",
    "        if area[i][j] != '.':\n",
    "            return area[i][j]\n",
    "        if i < 0 or i > w or j < 0 or j > h:\n",
    "            return '.'\n",
    "        \n",
    "\n",
    "def check_p2(area, x, y, w, h):\n",
    "    return Counter([check_line(area, x, y, dx, dy, w, h) for dx in [-1, 0, 1] for dy in [-1, 0, 1] if dx != 0 or dy != 0])\n",
    "\n",
    "\n",
    "def iterate_p2(area):\n",
    "    h, w = len(lines), len(lines[0])\n",
    "    new_area = get_empty_area()\n",
    "    for i, l in enumerate(lines):\n",
    "        for j, s in enumerate(l):\n",
    "            if s == '.':\n",
    "                continue\n",
    "            c = check_p2(area, i, j, w, h)\n",
    "\n",
    "            if c['#'] == 0:\n",
    "                new_area[i][j] = '#'\n",
    "            elif c['#'] >= 5:\n",
    "                new_area[i][j] = 'L'\n",
    "            else:\n",
    "                new_area[i][j] = area[i][j]\n",
    "    return new_area"
   ]
  },
  {
   "cell_type": "code",
   "execution_count": null,
   "metadata": {
    "scrolled": true
   },
   "outputs": [],
   "source": [
    "area = get_empty_area()\n",
    "\n",
    "nb_occupied = count(area)['#']\n",
    "\n",
    "for i in range(1000):\n",
    "    area = iterate_p2(area)\n",
    "    new_nb = count(area)['#']\n",
    "    if new_nb == nb_occupied:\n",
    "        print(new_nb)\n",
    "        break\n",
    "    nb_occupied = new_nb"
   ]
  },
  {
   "cell_type": "markdown",
   "metadata": {},
   "source": [
    "## Day 10\n",
    "### Part 1"
   ]
  },
  {
   "cell_type": "code",
   "execution_count": null,
   "metadata": {
    "scrolled": true
   },
   "outputs": [],
   "source": [
    "with open('input10.txt') as fin:\n",
    "    lines = [int(line.strip()) for line in fin.readlines()]"
   ]
  },
  {
   "cell_type": "code",
   "execution_count": null,
   "metadata": {
    "scrolled": true
   },
   "outputs": [],
   "source": [
    "lines.sort()"
   ]
  },
  {
   "cell_type": "code",
   "execution_count": null,
   "metadata": {
    "scrolled": true
   },
   "outputs": [],
   "source": [
    "from collections import Counter\n",
    "c = Counter(l2 - l1 for l1, l2 in zip(lines[:-1], lines[1:]))\n",
    "(c[1]+1)*(c[3]+1)"
   ]
  },
  {
   "cell_type": "markdown",
   "metadata": {},
   "source": [
    "### Part 2"
   ]
  },
  {
   "cell_type": "code",
   "execution_count": null,
   "metadata": {
    "scrolled": true
   },
   "outputs": [],
   "source": [
    "c = Counter({0: 1})\n",
    "for line in lines:\n",
    "    c[line] = sum(c[e] for e in range(line - 3, line))\n",
    "print(c.most_common(1)[0][1])"
   ]
  },
  {
   "cell_type": "markdown",
   "metadata": {},
   "source": [
    "## Day 9\n",
    "### Part 1"
   ]
  },
  {
   "cell_type": "code",
   "execution_count": null,
   "metadata": {
    "scrolled": true
   },
   "outputs": [],
   "source": [
    "with open('input09.txt') as fin:\n",
    "    lines = [int(line.strip()) for line in fin.readlines()]"
   ]
  },
  {
   "cell_type": "code",
   "execution_count": null,
   "metadata": {
    "scrolled": true
   },
   "outputs": [],
   "source": [
    "def get_sums(numbers):\n",
    "    return set(nb1 + nb2 for nb1 in set(numbers) for nb2 in set(numbers) if nb1 != nb2)\n",
    "\n",
    "def check(numbers):\n",
    "    pre = 25\n",
    "    for i in range(pre, len(numbers)):\n",
    "        if numbers[i] not in get_sums(numbers[i-pre:i]):\n",
    "            return numbers[i]"
   ]
  },
  {
   "cell_type": "code",
   "execution_count": null,
   "metadata": {
    "scrolled": true
   },
   "outputs": [],
   "source": [
    "check(lines)"
   ]
  },
  {
   "cell_type": "markdown",
   "metadata": {},
   "source": [
    "### Part 2"
   ]
  },
  {
   "cell_type": "code",
   "execution_count": null,
   "metadata": {
    "scrolled": true
   },
   "outputs": [],
   "source": [
    "target = check(lines)\n",
    "max_idx = lines.index(target)"
   ]
  },
  {
   "cell_type": "code",
   "execution_count": null,
   "metadata": {
    "scrolled": true
   },
   "outputs": [],
   "source": [
    "def find_weakness(numbers):\n",
    "    for i in range(max_idx):\n",
    "        for j in range(i, max_idx):\n",
    "            if sum(numbers[i:j]) == target:\n",
    "                return min(numbers[i:j]) + max(numbers[i:j])"
   ]
  },
  {
   "cell_type": "code",
   "execution_count": null,
   "metadata": {
    "scrolled": true
   },
   "outputs": [],
   "source": [
    "find_weakness(lines)"
   ]
  },
  {
   "cell_type": "markdown",
   "metadata": {},
   "source": [
    "## Day 8\n",
    "### Part 1"
   ]
  },
  {
   "cell_type": "code",
   "execution_count": null,
   "metadata": {
    "scrolled": true
   },
   "outputs": [],
   "source": [
    "with open('input08.txt') as fin:\n",
    "    lines = [line.strip() for line in fin.readlines()]"
   ]
  },
  {
   "cell_type": "code",
   "execution_count": null,
   "metadata": {
    "scrolled": true
   },
   "outputs": [],
   "source": [
    "def execute(line):\n",
    "    cmd, arg = line.split()\n",
    "    if cmd == 'nop':\n",
    "        return 1, 0\n",
    "    arg = int(arg)\n",
    "    if cmd == 'acc':\n",
    "        return 1, arg\n",
    "    if cmd == 'jmp':\n",
    "        return arg, 0\n",
    "    \n",
    "def run(prog):\n",
    "    idx = 0\n",
    "    acc = 0\n",
    "    cache = {0}\n",
    "    while True:\n",
    "        off, inc = execute(prog[idx])\n",
    "        acc += inc\n",
    "        idx += off\n",
    "        if idx in cache:\n",
    "            return False, acc\n",
    "        if idx >= len(prog):\n",
    "            return True, acc\n",
    "        cache.add(idx)\n",
    "        \n",
    "_, ans = run(lines)\n",
    "print(ans)"
   ]
  },
  {
   "cell_type": "markdown",
   "metadata": {},
   "source": [
    "### Part2"
   ]
  },
  {
   "cell_type": "code",
   "execution_count": null,
   "metadata": {
    "scrolled": true
   },
   "outputs": [],
   "source": [
    "def fix(prog):\n",
    "    for i in range(len(prog)):\n",
    "        if prog[i][:3] == 'acc':\n",
    "            continue\n",
    "        fixed = prog.copy()\n",
    "        if fixed[i][:3] == 'nop':\n",
    "            fixed[i] = fixed[i].replace('nop', 'jmp')\n",
    "        else:\n",
    "            fixed[i] = fixed[i].replace('jmp', 'nop')\n",
    "        ok, ans = run(fixed)\n",
    "        if ok:\n",
    "            print(ans)\n",
    "            break\n",
    "            \n",
    "fix(lines)"
   ]
  },
  {
   "cell_type": "markdown",
   "metadata": {},
   "source": [
    "## Day 7\n",
    "### Part 1"
   ]
  },
  {
   "cell_type": "code",
   "execution_count": null,
   "metadata": {
    "scrolled": true
   },
   "outputs": [],
   "source": [
    "with open('input07.txt') as fin:\n",
    "    lines = fin.readlines()"
   ]
  },
  {
   "cell_type": "code",
   "execution_count": null,
   "metadata": {
    "scrolled": true
   },
   "outputs": [],
   "source": [
    "import re\n",
    "from collections import defaultdict\n",
    "\n",
    "constraints = {}\n",
    "reverse = defaultdict(set)\n",
    "\n",
    "for line in lines:\n",
    "    bag, content = line.strip().split(' bags contain ')\n",
    "\n",
    "    constraints[bag] = []\n",
    "\n",
    "    if not re.match(r\"^no other\", content):\n",
    "        content = content.split(\", \")\n",
    "        for item in content:\n",
    "            match = re.match(r\"^(\\d) (\\w+ \\w+) bags?\\.?\", item)\n",
    "            if match:\n",
    "                constraints[bag].append((int(match.group(1)), match.group(2)))\n",
    "                reverse[match.group(2)].add(bag)"
   ]
  },
  {
   "cell_type": "code",
   "execution_count": null,
   "metadata": {
    "scrolled": true
   },
   "outputs": [],
   "source": [
    "targets = reverse[\"shiny gold\"].copy()\n",
    "\n",
    "while True:\n",
    "    new_targets = set()\n",
    "    for bag in targets:\n",
    "        new_targets.update(reverse[bag])\n",
    "    if new_targets - targets:\n",
    "        targets.update(new_targets)\n",
    "    else:\n",
    "        break\n",
    "len(targets)"
   ]
  },
  {
   "cell_type": "markdown",
   "metadata": {},
   "source": [
    "### Part 2"
   ]
  },
  {
   "cell_type": "code",
   "execution_count": null,
   "metadata": {
    "scrolled": true
   },
   "outputs": [],
   "source": [
    "def recurse(bag):\n",
    "    if constraints[bag]:\n",
    "        count = 0\n",
    "        for qty, subbag in constraints[bag]:\n",
    "            count += qty*(1+recurse(subbag))\n",
    "        return count\n",
    "    else:\n",
    "        return 0\n",
    "    \n",
    "recurse(\"shiny gold\")"
   ]
  },
  {
   "cell_type": "markdown",
   "metadata": {},
   "source": [
    "## Day 6\n",
    "### Part 1"
   ]
  },
  {
   "cell_type": "code",
   "execution_count": null,
   "metadata": {
    "scrolled": true
   },
   "outputs": [],
   "source": [
    "with open('input06.txt') as fin:\n",
    "    lines = fin.readlines()\n",
    "    groups = ''.join(lines).split('\\n\\n')"
   ]
  },
  {
   "cell_type": "code",
   "execution_count": null,
   "metadata": {
    "scrolled": true
   },
   "outputs": [],
   "source": [
    "def parse_group(group):\n",
    "    return set(\"\".join(group.split('\\n')))\n",
    "\n",
    "print(sum(len(parse_group(group)) for group in groups))"
   ]
  },
  {
   "cell_type": "markdown",
   "metadata": {},
   "source": [
    "### Part 2"
   ]
  },
  {
   "cell_type": "code",
   "execution_count": null,
   "metadata": {
    "scrolled": true
   },
   "outputs": [],
   "source": [
    "def parse_group_p2(group):\n",
    "    inter_set = parse_group(group)\n",
    "    for subgroup in group.split('\\n'):\n",
    "        inter_set &= set(subgroup)\n",
    "    return inter_set"
   ]
  },
  {
   "cell_type": "code",
   "execution_count": null,
   "metadata": {
    "scrolled": true
   },
   "outputs": [],
   "source": [
    "print(sum(len(parse_group_p2(group)) for group in groups))"
   ]
  },
  {
   "cell_type": "markdown",
   "metadata": {},
   "source": [
    "## Day 5\n",
    "### Part 1"
   ]
  },
  {
   "cell_type": "code",
   "execution_count": null,
   "metadata": {
    "scrolled": true
   },
   "outputs": [],
   "source": [
    "with open('input05.txt') as fin:\n",
    "    lines = fin.readlines()\n",
    "    codes = [c.strip() for c in lines]"
   ]
  },
  {
   "cell_type": "code",
   "execution_count": null,
   "metadata": {
    "scrolled": true
   },
   "outputs": [],
   "source": [
    "import re\n",
    "\n",
    "def idx(code):\n",
    "    code = re.sub(r\"[FL]\", '0', code)\n",
    "    code = re.sub(r\"[BR]\", '1', code)\n",
    "    return int(f\"0b{code}\", 2)\n",
    "\n",
    "max(idx(code) for code in codes)"
   ]
  },
  {
   "cell_type": "markdown",
   "metadata": {},
   "source": [
    "### Part 2"
   ]
  },
  {
   "cell_type": "code",
   "execution_count": null,
   "metadata": {
    "scrolled": true
   },
   "outputs": [],
   "source": [
    "ids = list(sorted([idx(code) for code in codes]))\n",
    "\n",
    "for id1, id2 in zip(ids[:-1], ids[1:]):\n",
    "    if id1 != id2 - 1:\n",
    "        print(id1 + 1)"
   ]
  },
  {
   "cell_type": "markdown",
   "metadata": {},
   "source": [
    "## Day 4\n",
    "### Part 1"
   ]
  },
  {
   "cell_type": "code",
   "execution_count": null,
   "metadata": {
    "scrolled": true
   },
   "outputs": [],
   "source": [
    "with open('input04.txt') as fin:\n",
    "    lines = fin.readlines()\n",
    "    raw_passports = ''.join(lines).split('\\n\\n')"
   ]
  },
  {
   "cell_type": "code",
   "execution_count": null,
   "metadata": {
    "scrolled": true
   },
   "outputs": [],
   "source": [
    "import re\n",
    "\n",
    "def get_passport(raw_line):\n",
    "    fields = re.split(r\"[\\s:]\", raw_line)\n",
    "    return {k:v for k,v in zip(fields[:-1:2], fields[1::2])}"
   ]
  },
  {
   "cell_type": "code",
   "execution_count": null,
   "metadata": {
    "scrolled": true
   },
   "outputs": [],
   "source": [
    "mandatory = {'byr', 'ecl', 'eyr', 'hcl', 'hgt', 'iyr', 'pid'}\n",
    "valid = 0\n",
    "for raw_pass in raw_passports:\n",
    "    passport = get_passport(raw_pass)\n",
    "    if set(passport.keys()) >= mandatory:\n",
    "        valid += 1\n",
    "print(valid)"
   ]
  },
  {
   "cell_type": "markdown",
   "metadata": {},
   "source": [
    "### Part 2"
   ]
  },
  {
   "cell_type": "code",
   "execution_count": null,
   "metadata": {
    "scrolled": true
   },
   "outputs": [],
   "source": [
    "def vyr(s, low, high):\n",
    "    r = re.match(r\"^\\d{4}$\", s)\n",
    "    if r:\n",
    "        y = int(r.group(0))\n",
    "        return low <= y <= high\n",
    "    return False\n",
    "\n",
    "def vhgt(s):\n",
    "    r = re.match(r\"^(\\d+)(cm|in)$\", s)\n",
    "    if r:\n",
    "        h = int(r.group(1))\n",
    "        u = r.group(2)\n",
    "        if u == 'cm':\n",
    "            return 150 <= h <= 193\n",
    "        elif u == 'in':\n",
    "            return 59 <= h <= 76\n",
    "    return False\n",
    "\n",
    "rules = {\n",
    "    'byr': lambda s: vyr(s, 1920, 2002),\n",
    "    'iyr': lambda s: vyr(s, 2010, 2020),\n",
    "    'eyr': lambda s: vyr(s, 2020, 2030),\n",
    "    'hgt': vhgt,\n",
    "    'hcl': lambda s: bool(re.match(r\"^#[0-9a-f]{6}$\", s)),\n",
    "    'ecl': lambda s: bool(re.match(r\"^(amb|blu|brn|gry|grn|hzl|oth)$\", s)),\n",
    "    'pid': lambda s: bool(re.match(r\"^\\d{9}$\", s)),\n",
    "}"
   ]
  },
  {
   "cell_type": "code",
   "execution_count": null,
   "metadata": {
    "scrolled": true
   },
   "outputs": [],
   "source": [
    "mandatory = {'byr', 'ecl', 'eyr', 'hcl', 'hgt', 'iyr', 'pid'}\n",
    "valid = 0\n",
    "for raw_pass in raw_passports:\n",
    "    passport = get_passport(raw_pass)\n",
    "    if set(passport.keys()) - {'cid'} == set(rules.keys()) and all(rule(passport[key]) for key, rule in rules.items()):\n",
    "        valid += 1\n",
    "print(valid)"
   ]
  },
  {
   "cell_type": "markdown",
   "metadata": {},
   "source": [
    "## Day 3\n",
    "### Part 1"
   ]
  },
  {
   "cell_type": "code",
   "execution_count": null,
   "metadata": {
    "scrolled": true
   },
   "outputs": [],
   "source": [
    "with open('input03.txt') as fin:\n",
    "    lines = fin.readlines()\n",
    "    trees = [line.strip() for line in lines]\n",
    "    height, width = len(trees), len(trees[0])"
   ]
  },
  {
   "cell_type": "code",
   "execution_count": null,
   "metadata": {
    "scrolled": true
   },
   "outputs": [],
   "source": [
    "def step(x, y, dx, dy):\n",
    "    return x+dx, y+dy\n",
    "\n",
    "def run(dx=3, dy=1):\n",
    "    cx, cy = 0, 0\n",
    "    nb_trees = 0\n",
    "    while cy < height:\n",
    "        if trees[cy][cx] == '#':\n",
    "            nb_trees += 1\n",
    "        cx, cy = step(cx, cy, dx, dy)\n",
    "        cx = cx % width\n",
    "    return nb_trees"
   ]
  },
  {
   "cell_type": "code",
   "execution_count": null,
   "metadata": {
    "scrolled": true
   },
   "outputs": [],
   "source": [
    "run()"
   ]
  },
  {
   "cell_type": "markdown",
   "metadata": {},
   "source": [
    "### Part 2"
   ]
  },
  {
   "cell_type": "code",
   "execution_count": null,
   "metadata": {
    "scrolled": true
   },
   "outputs": [],
   "source": [
    "slopes = [(1, 1), (3, 1), (5, 1), (7, 1), (1, 2)]\n",
    "count = 1\n",
    "for dx, dy in slopes:\n",
    "    count *= run(dx, dy)\n",
    "print(count)"
   ]
  },
  {
   "cell_type": "markdown",
   "metadata": {},
   "source": [
    "## Day 2\n",
    "### Part 1"
   ]
  },
  {
   "cell_type": "code",
   "execution_count": null,
   "metadata": {
    "scrolled": true
   },
   "outputs": [],
   "source": [
    "import re\n",
    "from collections import Counter\n",
    "\n",
    "def parse(line):\n",
    "    low, high, letter, password = re.split(r\"[- ]\", line.strip())\n",
    "    \n",
    "    low, high, letter = int(low), int(high), letter[:-1]\n",
    "    \n",
    "    return low, high, letter, password\n",
    "\n",
    "def valid(line):\n",
    "    low, high, letter, password = parse(line)\n",
    "    count = Counter(password)\n",
    "    \n",
    "    return count[letter] >= low and count[letter] <= high\n",
    "\n",
    "with open('input02.txt') as fin:\n",
    "    lines = fin.readlines()\n",
    "    \n",
    "    print(len([line for line in lines if valid(line)])) "
   ]
  },
  {
   "cell_type": "markdown",
   "metadata": {},
   "source": [
    "### Part 2"
   ]
  },
  {
   "cell_type": "code",
   "execution_count": null,
   "metadata": {
    "scrolled": true
   },
   "outputs": [],
   "source": [
    "def valid_p2(line):\n",
    "    low, high, letter, password = parse(line)\n",
    "    \n",
    "    return (password[low - 1] == letter) != (password[high - 1] == letter)"
   ]
  },
  {
   "cell_type": "code",
   "execution_count": null,
   "metadata": {
    "scrolled": true
   },
   "outputs": [],
   "source": [
    "with open('input02.txt') as fin:\n",
    "    lines = fin.readlines()\n",
    "    \n",
    "    print(len([line for line in lines if valid_p2(line)])) "
   ]
  },
  {
   "cell_type": "markdown",
   "metadata": {},
   "source": [
    "## Day 1\n",
    "### Part 1"
   ]
  },
  {
   "cell_type": "code",
   "execution_count": null,
   "metadata": {
    "scrolled": true
   },
   "outputs": [],
   "source": [
    "with open('input01.txt') as fin:\n",
    "    data = [int(d.strip()) for d in fin.readlines()]"
   ]
  },
  {
   "cell_type": "code",
   "execution_count": null,
   "metadata": {
    "scrolled": true
   },
   "outputs": [],
   "source": [
    "for a in data:\n",
    "    for b in data:\n",
    "        if a+b == 2020:\n",
    "            print(a*b)"
   ]
  },
  {
   "cell_type": "markdown",
   "metadata": {},
   "source": [
    "### Part 2"
   ]
  },
  {
   "cell_type": "code",
   "execution_count": null,
   "metadata": {
    "scrolled": true
   },
   "outputs": [],
   "source": [
    "for a in data:\n",
    "    for b in data:\n",
    "        for c in data:\n",
    "            if a+b+c == 2020:\n",
    "                print(a*b*c)"
   ]
  }
 ],
 "metadata": {
  "kernelspec": {
   "display_name": "Python 3",
   "language": "python",
   "name": "python3"
  },
  "language_info": {
   "codemirror_mode": {
    "name": "ipython",
    "version": 3
   },
   "file_extension": ".py",
   "mimetype": "text/x-python",
   "name": "python",
   "nbconvert_exporter": "python",
   "pygments_lexer": "ipython3",
   "version": "3.8.5"
  }
 },
 "nbformat": 4,
 "nbformat_minor": 2
}
